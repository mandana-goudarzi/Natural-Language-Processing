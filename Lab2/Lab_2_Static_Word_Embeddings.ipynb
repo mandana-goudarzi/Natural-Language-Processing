{
  "cells": [
    {
      "cell_type": "markdown",
      "id": "eb9ee8d4-afdd-400a-bae0-03ca972a2559",
      "metadata": {
        "id": "eb9ee8d4-afdd-400a-bae0-03ca972a2559",
        "tags": []
      },
      "source": [
        "#Lab2: Static Word Embeddings"
      ]
    },
    {
      "cell_type": "markdown",
      "id": "71725826-1cd3-4a89-9471-509ccb926af9",
      "metadata": {
        "id": "71725826-1cd3-4a89-9471-509ccb926af9",
        "tags": []
      },
      "source": [
        "## Static word Embeddings\n",
        "In class you discussed how there are models like **GloVe**, **Word2Vec** and **fastText** that, when trained on a corpus, produce a vectorial representation of words based on the context. These models produce what are called static embeddings, meaning that there is a singular vector for each word that is a weighted average of all the meanings that the word can have.\n",
        "\n",
        "For example, the word **right** can have different meanings:\n",
        "\n",
        "1.   It looks **right** -> right as in correct\n",
        "2.   The phone is on your **right** -> right as in position\n",
        "\n",
        "But we will get a single vector for the word **right**, which includes both meanings.\n"
      ]
    },
    {
      "cell_type": "markdown",
      "id": "VvdXju9Iw_K9",
      "metadata": {
        "id": "VvdXju9Iw_K9"
      },
      "source": [
        "**Useful NLP libraries**\n",
        "\n",
        "There are many useful python NLP libraries:\n",
        "\n",
        "\n",
        "* [NLTK](https://www.nltk.org), Natural Language Toolkit is a platform that includes many resources for building Python programs and models to work with text.  Here can be found datasets and libraries for classification, tokenization, stemming, tagging, parsing, and semantic reasoning.\n",
        "* [SpaCy](https://spacy.io), which is a library useful for creating models, chatbots, and programs for document and text analysis (part-of-speech tagging, dependency parsing, text categorization, named entity recognition).\n",
        "* [HuggingFace 🤗](https://huggingface.co), that is a machine learning and data science platform useful for building, deployment, and training of machine learning models.\n",
        "* [Gensim](https://radimrehurek.com/gensim/auto_examples/index.html#other-resources), which is library for topic modeling, information retrieval and other natural language processing resources, models and functionalities. This library also offers models to train word vectors, like Word2Vec and FastText.\n",
        "\n",
        "In this lab we will work with **Gensim**, **NLTK** and **SpaCy**.\n"
      ]
    },
    {
      "cell_type": "markdown",
      "id": "ql91he8j53OK",
      "metadata": {
        "id": "ql91he8j53OK"
      },
      "source": [
        "### Preparing the environment"
      ]
    },
    {
      "cell_type": "code",
      "execution_count": 30,
      "id": "JP-wTMwYTIbY",
      "metadata": {
        "colab": {
          "base_uri": "https://localhost:8080/"
        },
        "id": "JP-wTMwYTIbY",
        "outputId": "0aeac8ef-3764-4619-ccd7-7dd8dfb6b9b3"
      },
      "outputs": [
        {
          "name": "stdout",
          "output_type": "stream",
          "text": [
            "Requirement already satisfied: gensim in /Users/goudarzimandanagmail.com/anaconda3/lib/python3.11/site-packages (4.3.0)\n",
            "Requirement already satisfied: numpy>=1.18.5 in /Users/goudarzimandanagmail.com/anaconda3/lib/python3.11/site-packages (from gensim) (1.24.4)\n",
            "Requirement already satisfied: scipy>=1.7.0 in /Users/goudarzimandanagmail.com/anaconda3/lib/python3.11/site-packages (from gensim) (1.10.1)\n",
            "Requirement already satisfied: smart-open>=1.8.1 in /Users/goudarzimandanagmail.com/anaconda3/lib/python3.11/site-packages (from gensim) (5.2.1)\n",
            "Requirement already satisfied: FuzzyTM>=0.4.0 in /Users/goudarzimandanagmail.com/anaconda3/lib/python3.11/site-packages (from gensim) (2.0.9)\n",
            "Requirement already satisfied: pandas in /Users/goudarzimandanagmail.com/anaconda3/lib/python3.11/site-packages (from FuzzyTM>=0.4.0->gensim) (1.5.3)\n",
            "Requirement already satisfied: pyfume in /Users/goudarzimandanagmail.com/anaconda3/lib/python3.11/site-packages (from FuzzyTM>=0.4.0->gensim) (0.3.4)\n",
            "Requirement already satisfied: python-dateutil>=2.8.1 in /Users/goudarzimandanagmail.com/anaconda3/lib/python3.11/site-packages (from pandas->FuzzyTM>=0.4.0->gensim) (2.8.2)\n",
            "Requirement already satisfied: pytz>=2020.1 in /Users/goudarzimandanagmail.com/anaconda3/lib/python3.11/site-packages (from pandas->FuzzyTM>=0.4.0->gensim) (2023.3.post1)\n",
            "Requirement already satisfied: simpful==2.12.0 in /Users/goudarzimandanagmail.com/anaconda3/lib/python3.11/site-packages (from pyfume->FuzzyTM>=0.4.0->gensim) (2.12.0)\n",
            "Requirement already satisfied: fst-pso==1.8.1 in /Users/goudarzimandanagmail.com/anaconda3/lib/python3.11/site-packages (from pyfume->FuzzyTM>=0.4.0->gensim) (1.8.1)\n",
            "Requirement already satisfied: miniful in /Users/goudarzimandanagmail.com/anaconda3/lib/python3.11/site-packages (from fst-pso==1.8.1->pyfume->FuzzyTM>=0.4.0->gensim) (0.0.6)\n",
            "Requirement already satisfied: six>=1.5 in /Users/goudarzimandanagmail.com/anaconda3/lib/python3.11/site-packages (from python-dateutil>=2.8.1->pandas->FuzzyTM>=0.4.0->gensim) (1.16.0)\n",
            "\n",
            "\u001b[1m[\u001b[0m\u001b[34;49mnotice\u001b[0m\u001b[1;39;49m]\u001b[0m\u001b[39;49m A new release of pip is available: \u001b[0m\u001b[31;49m24.1.1\u001b[0m\u001b[39;49m -> \u001b[0m\u001b[32;49m25.0.1\u001b[0m\n",
            "\u001b[1m[\u001b[0m\u001b[34;49mnotice\u001b[0m\u001b[1;39;49m]\u001b[0m\u001b[39;49m To update, run: \u001b[0m\u001b[32;49mpip install --upgrade pip\u001b[0m\n",
            "zsh:1: no matches found: networkx[default]\n"
          ]
        }
      ],
      "source": [
        "# to begin with we have to first install the library\n",
        "!pip install gensim\n",
        "!pip install networkx[default]"
      ]
    },
    {
      "cell_type": "markdown",
      "id": "hn4A65U3kdaP",
      "metadata": {
        "id": "hn4A65U3kdaP"
      },
      "source": [
        "Since some packages were re-installed, we have to restart the session, or we are going to get some errors.\n",
        "This can be done either by going on **Runtime** in the menu and selecting **Restart session**, or by running the piece of code in the next cell.\n"
      ]
    },
    {
      "cell_type": "code",
      "execution_count": null,
      "id": "gWPKipYLWT3f",
      "metadata": {
        "id": "gWPKipYLWT3f"
      },
      "outputs": [
        {
          "ename": "",
          "evalue": "",
          "output_type": "error",
          "traceback": [
            "\u001b[1;31mThe Kernel crashed while executing code in the the current cell or a previous cell. Please review the code in the cell(s) to identify a possible cause of the failure. Click <a href='https://aka.ms/vscodeJupyterKernelCrash'>here</a> for more info. View Jupyter <a href='command:jupyter.viewOutput'>log</a> for further details."
          ]
        }
      ],
      "source": [
        "# restart session\n",
        "import os\n",
        "os.kill(os.getpid(), 9)"
      ]
    },
    {
      "cell_type": "markdown",
      "id": "PKCK3wKg6gsD",
      "metadata": {
        "id": "PKCK3wKg6gsD"
      },
      "source": [
        "We can now proceed with importing the libraries"
      ]
    },
    {
      "cell_type": "code",
      "execution_count": 2,
      "id": "1ebdec4e",
      "metadata": {
        "id": "1ebdec4e",
        "tags": []
      },
      "outputs": [],
      "source": [
        "import gensim\n",
        "# gensim.downloader is an API for downloading, getting information and loading datasets and models\n",
        "import gensim.downloader as api"
      ]
    },
    {
      "cell_type": "markdown",
      "id": "fJXGzKigpsnW",
      "metadata": {
        "id": "fJXGzKigpsnW"
      },
      "source": [
        "And download the additional datasets that we're going to use"
      ]
    },
    {
      "cell_type": "code",
      "execution_count": 3,
      "id": "XWaYR-1Up2CG",
      "metadata": {
        "colab": {
          "base_uri": "https://localhost:8080/"
        },
        "id": "XWaYR-1Up2CG",
        "outputId": "78761b64-826b-44ed-caba-e5d86080394c"
      },
      "outputs": [
        {
          "name": "stdout",
          "output_type": "stream",
          "text": [
            "fatal: destination path 'Lab_2_datasets' already exists and is not an empty directory.\n"
          ]
        }
      ],
      "source": [
        "!git clone https://github.com/elsartori/Lab_2_datasets.git"
      ]
    },
    {
      "cell_type": "markdown",
      "id": "ee260e2b-1403-4be2-af68-86f63869a5b1",
      "metadata": {
        "id": "ee260e2b-1403-4be2-af68-86f63869a5b1",
        "tags": []
      },
      "source": [
        "## Pre-trained embeddings\n",
        "It is not always necessary to create word embeddings from scratch, but we can use pre-trained embeddings, already created embeddings that we just need to load.\n",
        "Using pre-trained embeddings allows us to work with embeddings without the need to 1) find a corpora and 2) pre-process it and train word vector models.\n"
      ]
    },
    {
      "cell_type": "code",
      "execution_count": 4,
      "id": "pnwRvAoCrmNZ",
      "metadata": {
        "colab": {
          "base_uri": "https://localhost:8080/"
        },
        "id": "pnwRvAoCrmNZ",
        "outputId": "7b2a1214-5611-4f66-ff8c-be1bf1120143"
      },
      "outputs": [
        {
          "data": {
            "text/plain": [
              "{'corpora': {'semeval-2016-2017-task3-subtaskBC': {'num_records': -1,\n",
              "   'record_format': 'dict',\n",
              "   'file_size': 6344358,\n",
              "   'reader_code': 'https://github.com/RaRe-Technologies/gensim-data/releases/download/semeval-2016-2017-task3-subtaskB-eng/__init__.py',\n",
              "   'license': 'All files released for the task are free for general research use',\n",
              "   'fields': {'2016-train': ['...'],\n",
              "    '2016-dev': ['...'],\n",
              "    '2017-test': ['...'],\n",
              "    '2016-test': ['...']},\n",
              "   'description': 'SemEval 2016 / 2017 Task 3 Subtask B and C datasets contain train+development (317 original questions, 3,169 related questions, and 31,690 comments), and test datasets in English. The description of the tasks and the collected data is given in sections 3 and 4.1 of the task paper http://alt.qcri.org/semeval2016/task3/data/uploads/semeval2016-task3-report.pdf linked in section “Papers” of https://github.com/RaRe-Technologies/gensim-data/issues/18.',\n",
              "   'checksum': '701ea67acd82e75f95e1d8e62fb0ad29',\n",
              "   'file_name': 'semeval-2016-2017-task3-subtaskBC.gz',\n",
              "   'read_more': ['http://alt.qcri.org/semeval2017/task3/',\n",
              "    'http://alt.qcri.org/semeval2017/task3/data/uploads/semeval2017-task3.pdf',\n",
              "    'https://github.com/RaRe-Technologies/gensim-data/issues/18',\n",
              "    'https://github.com/Witiko/semeval-2016_2017-task3-subtaskB-english'],\n",
              "   'parts': 1},\n",
              "  'semeval-2016-2017-task3-subtaskA-unannotated': {'num_records': 189941,\n",
              "   'record_format': 'dict',\n",
              "   'file_size': 234373151,\n",
              "   'reader_code': 'https://github.com/RaRe-Technologies/gensim-data/releases/download/semeval-2016-2017-task3-subtaskA-unannotated-eng/__init__.py',\n",
              "   'license': 'These datasets are free for general research use.',\n",
              "   'fields': {'THREAD_SEQUENCE': '',\n",
              "    'RelQuestion': {'RELQ_CATEGORY': 'question category, according to the Qatar Living taxonomy',\n",
              "     'RELQ_DATE': 'date of posting',\n",
              "     'RELQ_ID': 'question indentifier',\n",
              "     'RELQ_USERID': 'identifier of the user asking the question',\n",
              "     'RELQ_USERNAME': 'name of the user asking the question',\n",
              "     'RelQBody': 'body of question',\n",
              "     'RelQSubject': 'subject of question'},\n",
              "    'RelComments': [{'RelCText': 'text of answer',\n",
              "      'RELC_USERID': 'identifier of the user posting the comment',\n",
              "      'RELC_ID': 'comment identifier',\n",
              "      'RELC_USERNAME': 'name of the user posting the comment',\n",
              "      'RELC_DATE': 'date of posting'}]},\n",
              "   'description': 'SemEval 2016 / 2017 Task 3 Subtask A unannotated dataset contains 189,941 questions and 1,894,456 comments in English collected from the Community Question Answering (CQA) web forum of Qatar Living. These can be used as a corpus for language modelling.',\n",
              "   'checksum': '2de0e2f2c4f91c66ae4fcf58d50ba816',\n",
              "   'file_name': 'semeval-2016-2017-task3-subtaskA-unannotated.gz',\n",
              "   'read_more': ['http://alt.qcri.org/semeval2016/task3/',\n",
              "    'http://alt.qcri.org/semeval2016/task3/data/uploads/semeval2016-task3-report.pdf',\n",
              "    'https://github.com/RaRe-Technologies/gensim-data/issues/18',\n",
              "    'https://github.com/Witiko/semeval-2016_2017-task3-subtaskA-unannotated-english'],\n",
              "   'parts': 1},\n",
              "  'patent-2017': {'num_records': 353197,\n",
              "   'record_format': 'dict',\n",
              "   'file_size': 3087262469,\n",
              "   'reader_code': 'https://github.com/RaRe-Technologies/gensim-data/releases/download/patent-2017/__init__.py',\n",
              "   'license': 'not found',\n",
              "   'description': \"Patent Grant Full Text. Contains the full text including tables, sequence data and 'in-line' mathematical expressions of each patent grant issued in 2017.\",\n",
              "   'checksum-0': '818501f0b9af62d3b88294d86d509f8f',\n",
              "   'checksum-1': '66c05635c1d3c7a19b4a335829d09ffa',\n",
              "   'file_name': 'patent-2017.gz',\n",
              "   'read_more': ['http://patents.reedtech.com/pgrbft.php'],\n",
              "   'parts': 2},\n",
              "  'quora-duplicate-questions': {'num_records': 404290,\n",
              "   'record_format': 'dict',\n",
              "   'file_size': 21684784,\n",
              "   'reader_code': 'https://github.com/RaRe-Technologies/gensim-data/releases/download/quora-duplicate-questions/__init__.py',\n",
              "   'license': 'probably https://www.quora.com/about/tos',\n",
              "   'fields': {'question1': 'the full text of each question',\n",
              "    'question2': 'the full text of each question',\n",
              "    'qid1': 'unique ids of each question',\n",
              "    'qid2': 'unique ids of each question',\n",
              "    'id': 'the id of a training set question pair',\n",
              "    'is_duplicate': 'the target variable, set to 1 if question1 and question2 have essentially the same meaning, and 0 otherwise'},\n",
              "   'description': 'Over 400,000 lines of potential question duplicate pairs. Each line contains IDs for each question in the pair, the full text for each question, and a binary value that indicates whether the line contains a duplicate pair or not.',\n",
              "   'checksum': 'd7cfa7fbc6e2ec71ab74c495586c6365',\n",
              "   'file_name': 'quora-duplicate-questions.gz',\n",
              "   'read_more': ['https://data.quora.com/First-Quora-Dataset-Release-Question-Pairs'],\n",
              "   'parts': 1},\n",
              "  'wiki-english-20171001': {'num_records': 4924894,\n",
              "   'record_format': 'dict',\n",
              "   'file_size': 6516051717,\n",
              "   'reader_code': 'https://github.com/RaRe-Technologies/gensim-data/releases/download/wiki-english-20171001/__init__.py',\n",
              "   'license': 'https://dumps.wikimedia.org/legal.html',\n",
              "   'fields': {'section_texts': 'list of body of sections',\n",
              "    'section_titles': 'list of titles of sections',\n",
              "    'title': 'Title of wiki article'},\n",
              "   'description': 'Extracted Wikipedia dump from October 2017. Produced by `python -m gensim.scripts.segment_wiki -f enwiki-20171001-pages-articles.xml.bz2 -o wiki-en.gz`',\n",
              "   'checksum-0': 'a7d7d7fd41ea7e2d7fa32ec1bb640d71',\n",
              "   'checksum-1': 'b2683e3356ffbca3b6c2dca6e9801f9f',\n",
              "   'checksum-2': 'c5cde2a9ae77b3c4ebce804f6df542c2',\n",
              "   'checksum-3': '00b71144ed5e3aeeb885de84f7452b81',\n",
              "   'file_name': 'wiki-english-20171001.gz',\n",
              "   'read_more': ['https://dumps.wikimedia.org/enwiki/20171001/'],\n",
              "   'parts': 4},\n",
              "  'text8': {'num_records': 1701,\n",
              "   'record_format': 'list of str (tokens)',\n",
              "   'file_size': 33182058,\n",
              "   'reader_code': 'https://github.com/RaRe-Technologies/gensim-data/releases/download/text8/__init__.py',\n",
              "   'license': 'not found',\n",
              "   'description': 'First 100,000,000 bytes of plain text from Wikipedia. Used for testing purposes; see wiki-english-* for proper full Wikipedia datasets.',\n",
              "   'checksum': '68799af40b6bda07dfa47a32612e5364',\n",
              "   'file_name': 'text8.gz',\n",
              "   'read_more': ['http://mattmahoney.net/dc/textdata.html'],\n",
              "   'parts': 1},\n",
              "  'fake-news': {'num_records': 12999,\n",
              "   'record_format': 'dict',\n",
              "   'file_size': 20102776,\n",
              "   'reader_code': 'https://github.com/RaRe-Technologies/gensim-data/releases/download/fake-news/__init__.py',\n",
              "   'license': 'https://creativecommons.org/publicdomain/zero/1.0/',\n",
              "   'fields': {'crawled': 'date the story was archived',\n",
              "    'ord_in_thread': '',\n",
              "    'published': 'date published',\n",
              "    'participants_count': 'number of participants',\n",
              "    'shares': 'number of Facebook shares',\n",
              "    'replies_count': 'number of replies',\n",
              "    'main_img_url': 'image from story',\n",
              "    'spam_score': 'data from webhose.io',\n",
              "    'uuid': 'unique identifier',\n",
              "    'language': 'data from webhose.io',\n",
              "    'title': 'title of story',\n",
              "    'country': 'data from webhose.io',\n",
              "    'domain_rank': 'data from webhose.io',\n",
              "    'author': 'author of story',\n",
              "    'comments': 'number of Facebook comments',\n",
              "    'site_url': 'site URL from BS detector',\n",
              "    'text': 'text of story',\n",
              "    'thread_title': '',\n",
              "    'type': 'type of website (label from BS detector)',\n",
              "    'likes': 'number of Facebook likes'},\n",
              "   'description': \"News dataset, contains text and metadata from 244 websites and represents 12,999 posts in total from a specific window of 30 days. The data was pulled using the webhose.io API, and because it's coming from their crawler, not all websites identified by their BS Detector are present in this dataset. Data sources that were missing a label were simply assigned a label of 'bs'. There are (ostensibly) no genuine, reliable, or trustworthy news sources represented in this dataset (so far), so don't trust anything you read.\",\n",
              "   'checksum': '5e64e942df13219465927f92dcefd5fe',\n",
              "   'file_name': 'fake-news.gz',\n",
              "   'read_more': ['https://www.kaggle.com/mrisdal/fake-news'],\n",
              "   'parts': 1},\n",
              "  '20-newsgroups': {'num_records': 18846,\n",
              "   'record_format': 'dict',\n",
              "   'file_size': 14483581,\n",
              "   'reader_code': 'https://github.com/RaRe-Technologies/gensim-data/releases/download/20-newsgroups/__init__.py',\n",
              "   'license': 'not found',\n",
              "   'fields': {'topic': 'name of topic (20 variant of possible values)',\n",
              "    'set': \"marker of original split (possible values 'train' and 'test')\",\n",
              "    'data': '',\n",
              "    'id': 'original id inferred from folder name'},\n",
              "   'description': 'The notorious collection of approximately 20,000 newsgroup posts, partitioned (nearly) evenly across 20 different newsgroups.',\n",
              "   'checksum': 'c92fd4f6640a86d5ba89eaad818a9891',\n",
              "   'file_name': '20-newsgroups.gz',\n",
              "   'read_more': ['http://qwone.com/~jason/20Newsgroups/'],\n",
              "   'parts': 1},\n",
              "  '__testing_matrix-synopsis': {'description': '[THIS IS ONLY FOR TESTING] Synopsis of the movie matrix.',\n",
              "   'checksum': '1767ac93a089b43899d54944b07d9dc5',\n",
              "   'file_name': '__testing_matrix-synopsis.gz',\n",
              "   'read_more': ['http://www.imdb.com/title/tt0133093/plotsummary?ref_=ttpl_pl_syn#synopsis'],\n",
              "   'parts': 1},\n",
              "  '__testing_multipart-matrix-synopsis': {'description': '[THIS IS ONLY FOR TESTING] Synopsis of the movie matrix.',\n",
              "   'checksum-0': 'c8b0c7d8cf562b1b632c262a173ac338',\n",
              "   'checksum-1': '5ff7fc6818e9a5d9bc1cf12c35ed8b96',\n",
              "   'checksum-2': '966db9d274d125beaac7987202076cba',\n",
              "   'file_name': '__testing_multipart-matrix-synopsis.gz',\n",
              "   'read_more': ['http://www.imdb.com/title/tt0133093/plotsummary?ref_=ttpl_pl_syn#synopsis'],\n",
              "   'parts': 3}},\n",
              " 'models': {'fasttext-wiki-news-subwords-300': {'num_records': 999999,\n",
              "   'file_size': 1005007116,\n",
              "   'base_dataset': 'Wikipedia 2017, UMBC webbase corpus and statmt.org news dataset (16B tokens)',\n",
              "   'reader_code': 'https://github.com/RaRe-Technologies/gensim-data/releases/download/fasttext-wiki-news-subwords-300/__init__.py',\n",
              "   'license': 'https://creativecommons.org/licenses/by-sa/3.0/',\n",
              "   'parameters': {'dimension': 300},\n",
              "   'description': '1 million word vectors trained on Wikipedia 2017, UMBC webbase corpus and statmt.org news dataset (16B tokens).',\n",
              "   'read_more': ['https://fasttext.cc/docs/en/english-vectors.html',\n",
              "    'https://arxiv.org/abs/1712.09405',\n",
              "    'https://arxiv.org/abs/1607.01759'],\n",
              "   'checksum': 'de2bb3a20c46ce65c9c131e1ad9a77af',\n",
              "   'file_name': 'fasttext-wiki-news-subwords-300.gz',\n",
              "   'parts': 1},\n",
              "  'conceptnet-numberbatch-17-06-300': {'num_records': 1917247,\n",
              "   'file_size': 1225497562,\n",
              "   'base_dataset': 'ConceptNet, word2vec, GloVe, and OpenSubtitles 2016',\n",
              "   'reader_code': 'https://github.com/RaRe-Technologies/gensim-data/releases/download/conceptnet-numberbatch-17-06-300/__init__.py',\n",
              "   'license': 'https://github.com/commonsense/conceptnet-numberbatch/blob/master/LICENSE.txt',\n",
              "   'parameters': {'dimension': 300},\n",
              "   'description': 'ConceptNet Numberbatch consists of state-of-the-art semantic vectors (also known as word embeddings) that can be used directly as a representation of word meanings or as a starting point for further machine learning. ConceptNet Numberbatch is part of the ConceptNet open data project. ConceptNet provides lots of ways to compute with word meanings, one of which is word embeddings. ConceptNet Numberbatch is a snapshot of just the word embeddings. It is built using an ensemble that combines data from ConceptNet, word2vec, GloVe, and OpenSubtitles 2016, using a variation on retrofitting.',\n",
              "   'read_more': ['http://aaai.org/ocs/index.php/AAAI/AAAI17/paper/view/14972',\n",
              "    'https://github.com/commonsense/conceptnet-numberbatch',\n",
              "    'http://conceptnet.io/'],\n",
              "   'checksum': 'fd642d457adcd0ea94da0cd21b150847',\n",
              "   'file_name': 'conceptnet-numberbatch-17-06-300.gz',\n",
              "   'parts': 1},\n",
              "  'word2vec-ruscorpora-300': {'num_records': 184973,\n",
              "   'file_size': 208427381,\n",
              "   'base_dataset': 'Russian National Corpus (about 250M words)',\n",
              "   'reader_code': 'https://github.com/RaRe-Technologies/gensim-data/releases/download/word2vec-ruscorpora-300/__init__.py',\n",
              "   'license': 'https://creativecommons.org/licenses/by/4.0/deed.en',\n",
              "   'parameters': {'dimension': 300, 'window_size': 10},\n",
              "   'description': 'Word2vec Continuous Skipgram vectors trained on full Russian National Corpus (about 250M words). The model contains 185K words.',\n",
              "   'preprocessing': 'The corpus was lemmatized and tagged with Universal PoS',\n",
              "   'read_more': ['https://www.academia.edu/24306935/WebVectors_a_Toolkit_for_Building_Web_Interfaces_for_Vector_Semantic_Models',\n",
              "    'http://rusvectores.org/en/',\n",
              "    'https://github.com/RaRe-Technologies/gensim-data/issues/3'],\n",
              "   'checksum': '9bdebdc8ae6d17d20839dd9b5af10bc4',\n",
              "   'file_name': 'word2vec-ruscorpora-300.gz',\n",
              "   'parts': 1},\n",
              "  'word2vec-google-news-300': {'num_records': 3000000,\n",
              "   'file_size': 1743563840,\n",
              "   'base_dataset': 'Google News (about 100 billion words)',\n",
              "   'reader_code': 'https://github.com/RaRe-Technologies/gensim-data/releases/download/word2vec-google-news-300/__init__.py',\n",
              "   'license': 'not found',\n",
              "   'parameters': {'dimension': 300},\n",
              "   'description': \"Pre-trained vectors trained on a part of the Google News dataset (about 100 billion words). The model contains 300-dimensional vectors for 3 million words and phrases. The phrases were obtained using a simple data-driven approach described in 'Distributed Representations of Words and Phrases and their Compositionality' (https://code.google.com/archive/p/word2vec/).\",\n",
              "   'read_more': ['https://code.google.com/archive/p/word2vec/',\n",
              "    'https://arxiv.org/abs/1301.3781',\n",
              "    'https://arxiv.org/abs/1310.4546',\n",
              "    'https://www.microsoft.com/en-us/research/publication/linguistic-regularities-in-continuous-space-word-representations/?from=http%3A%2F%2Fresearch.microsoft.com%2Fpubs%2F189726%2Frvecs.pdf'],\n",
              "   'checksum': 'a5e5354d40acb95f9ec66d5977d140ef',\n",
              "   'file_name': 'word2vec-google-news-300.gz',\n",
              "   'parts': 1},\n",
              "  'glove-wiki-gigaword-50': {'num_records': 400000,\n",
              "   'file_size': 69182535,\n",
              "   'base_dataset': 'Wikipedia 2014 + Gigaword 5 (6B tokens, uncased)',\n",
              "   'reader_code': 'https://github.com/RaRe-Technologies/gensim-data/releases/download/glove-wiki-gigaword-50/__init__.py',\n",
              "   'license': 'http://opendatacommons.org/licenses/pddl/',\n",
              "   'parameters': {'dimension': 50},\n",
              "   'description': 'Pre-trained vectors based on Wikipedia 2014 + Gigaword, 5.6B tokens, 400K vocab, uncased (https://nlp.stanford.edu/projects/glove/).',\n",
              "   'preprocessing': 'Converted to w2v format with `python -m gensim.scripts.glove2word2vec -i <fname> -o glove-wiki-gigaword-50.txt`.',\n",
              "   'read_more': ['https://nlp.stanford.edu/projects/glove/',\n",
              "    'https://nlp.stanford.edu/pubs/glove.pdf'],\n",
              "   'checksum': 'c289bc5d7f2f02c6dc9f2f9b67641813',\n",
              "   'file_name': 'glove-wiki-gigaword-50.gz',\n",
              "   'parts': 1},\n",
              "  'glove-wiki-gigaword-100': {'num_records': 400000,\n",
              "   'file_size': 134300434,\n",
              "   'base_dataset': 'Wikipedia 2014 + Gigaword 5 (6B tokens, uncased)',\n",
              "   'reader_code': 'https://github.com/RaRe-Technologies/gensim-data/releases/download/glove-wiki-gigaword-100/__init__.py',\n",
              "   'license': 'http://opendatacommons.org/licenses/pddl/',\n",
              "   'parameters': {'dimension': 100},\n",
              "   'description': 'Pre-trained vectors based on Wikipedia 2014 + Gigaword 5.6B tokens, 400K vocab, uncased (https://nlp.stanford.edu/projects/glove/).',\n",
              "   'preprocessing': 'Converted to w2v format with `python -m gensim.scripts.glove2word2vec -i <fname> -o glove-wiki-gigaword-100.txt`.',\n",
              "   'read_more': ['https://nlp.stanford.edu/projects/glove/',\n",
              "    'https://nlp.stanford.edu/pubs/glove.pdf'],\n",
              "   'checksum': '40ec481866001177b8cd4cb0df92924f',\n",
              "   'file_name': 'glove-wiki-gigaword-100.gz',\n",
              "   'parts': 1},\n",
              "  'glove-wiki-gigaword-200': {'num_records': 400000,\n",
              "   'file_size': 264336934,\n",
              "   'base_dataset': 'Wikipedia 2014 + Gigaword 5 (6B tokens, uncased)',\n",
              "   'reader_code': 'https://github.com/RaRe-Technologies/gensim-data/releases/download/glove-wiki-gigaword-200/__init__.py',\n",
              "   'license': 'http://opendatacommons.org/licenses/pddl/',\n",
              "   'parameters': {'dimension': 200},\n",
              "   'description': 'Pre-trained vectors based on Wikipedia 2014 + Gigaword, 5.6B tokens, 400K vocab, uncased (https://nlp.stanford.edu/projects/glove/).',\n",
              "   'preprocessing': 'Converted to w2v format with `python -m gensim.scripts.glove2word2vec -i <fname> -o glove-wiki-gigaword-200.txt`.',\n",
              "   'read_more': ['https://nlp.stanford.edu/projects/glove/',\n",
              "    'https://nlp.stanford.edu/pubs/glove.pdf'],\n",
              "   'checksum': '59652db361b7a87ee73834a6c391dfc1',\n",
              "   'file_name': 'glove-wiki-gigaword-200.gz',\n",
              "   'parts': 1},\n",
              "  'glove-wiki-gigaword-300': {'num_records': 400000,\n",
              "   'file_size': 394362229,\n",
              "   'base_dataset': 'Wikipedia 2014 + Gigaword 5 (6B tokens, uncased)',\n",
              "   'reader_code': 'https://github.com/RaRe-Technologies/gensim-data/releases/download/glove-wiki-gigaword-300/__init__.py',\n",
              "   'license': 'http://opendatacommons.org/licenses/pddl/',\n",
              "   'parameters': {'dimension': 300},\n",
              "   'description': 'Pre-trained vectors based on Wikipedia 2014 + Gigaword, 5.6B tokens, 400K vocab, uncased (https://nlp.stanford.edu/projects/glove/).',\n",
              "   'preprocessing': 'Converted to w2v format with `python -m gensim.scripts.glove2word2vec -i <fname> -o glove-wiki-gigaword-300.txt`.',\n",
              "   'read_more': ['https://nlp.stanford.edu/projects/glove/',\n",
              "    'https://nlp.stanford.edu/pubs/glove.pdf'],\n",
              "   'checksum': '29e9329ac2241937d55b852e8284e89b',\n",
              "   'file_name': 'glove-wiki-gigaword-300.gz',\n",
              "   'parts': 1},\n",
              "  'glove-twitter-25': {'num_records': 1193514,\n",
              "   'file_size': 109885004,\n",
              "   'base_dataset': 'Twitter (2B tweets, 27B tokens, 1.2M vocab, uncased)',\n",
              "   'reader_code': 'https://github.com/RaRe-Technologies/gensim-data/releases/download/glove-twitter-25/__init__.py',\n",
              "   'license': 'http://opendatacommons.org/licenses/pddl/',\n",
              "   'parameters': {'dimension': 25},\n",
              "   'description': 'Pre-trained vectors based on 2B tweets, 27B tokens, 1.2M vocab, uncased (https://nlp.stanford.edu/projects/glove/).',\n",
              "   'preprocessing': 'Converted to w2v format with `python -m gensim.scripts.glove2word2vec -i <fname> -o glove-twitter-25.txt`.',\n",
              "   'read_more': ['https://nlp.stanford.edu/projects/glove/',\n",
              "    'https://nlp.stanford.edu/pubs/glove.pdf'],\n",
              "   'checksum': '50db0211d7e7a2dcd362c6b774762793',\n",
              "   'file_name': 'glove-twitter-25.gz',\n",
              "   'parts': 1},\n",
              "  'glove-twitter-50': {'num_records': 1193514,\n",
              "   'file_size': 209216938,\n",
              "   'base_dataset': 'Twitter (2B tweets, 27B tokens, 1.2M vocab, uncased)',\n",
              "   'reader_code': 'https://github.com/RaRe-Technologies/gensim-data/releases/download/glove-twitter-50/__init__.py',\n",
              "   'license': 'http://opendatacommons.org/licenses/pddl/',\n",
              "   'parameters': {'dimension': 50},\n",
              "   'description': 'Pre-trained vectors based on 2B tweets, 27B tokens, 1.2M vocab, uncased (https://nlp.stanford.edu/projects/glove/)',\n",
              "   'preprocessing': 'Converted to w2v format with `python -m gensim.scripts.glove2word2vec -i <fname> -o glove-twitter-50.txt`.',\n",
              "   'read_more': ['https://nlp.stanford.edu/projects/glove/',\n",
              "    'https://nlp.stanford.edu/pubs/glove.pdf'],\n",
              "   'checksum': 'c168f18641f8c8a00fe30984c4799b2b',\n",
              "   'file_name': 'glove-twitter-50.gz',\n",
              "   'parts': 1},\n",
              "  'glove-twitter-100': {'num_records': 1193514,\n",
              "   'file_size': 405932991,\n",
              "   'base_dataset': 'Twitter (2B tweets, 27B tokens, 1.2M vocab, uncased)',\n",
              "   'reader_code': 'https://github.com/RaRe-Technologies/gensim-data/releases/download/glove-twitter-100/__init__.py',\n",
              "   'license': 'http://opendatacommons.org/licenses/pddl/',\n",
              "   'parameters': {'dimension': 100},\n",
              "   'description': 'Pre-trained vectors based on  2B tweets, 27B tokens, 1.2M vocab, uncased (https://nlp.stanford.edu/projects/glove/)',\n",
              "   'preprocessing': 'Converted to w2v format with `python -m gensim.scripts.glove2word2vec -i <fname> -o glove-twitter-100.txt`.',\n",
              "   'read_more': ['https://nlp.stanford.edu/projects/glove/',\n",
              "    'https://nlp.stanford.edu/pubs/glove.pdf'],\n",
              "   'checksum': 'b04f7bed38756d64cf55b58ce7e97b15',\n",
              "   'file_name': 'glove-twitter-100.gz',\n",
              "   'parts': 1},\n",
              "  'glove-twitter-200': {'num_records': 1193514,\n",
              "   'file_size': 795373100,\n",
              "   'base_dataset': 'Twitter (2B tweets, 27B tokens, 1.2M vocab, uncased)',\n",
              "   'reader_code': 'https://github.com/RaRe-Technologies/gensim-data/releases/download/glove-twitter-200/__init__.py',\n",
              "   'license': 'http://opendatacommons.org/licenses/pddl/',\n",
              "   'parameters': {'dimension': 200},\n",
              "   'description': 'Pre-trained vectors based on 2B tweets, 27B tokens, 1.2M vocab, uncased (https://nlp.stanford.edu/projects/glove/).',\n",
              "   'preprocessing': 'Converted to w2v format with `python -m gensim.scripts.glove2word2vec -i <fname> -o glove-twitter-200.txt`.',\n",
              "   'read_more': ['https://nlp.stanford.edu/projects/glove/',\n",
              "    'https://nlp.stanford.edu/pubs/glove.pdf'],\n",
              "   'checksum': 'e52e8392d1860b95d5308a525817d8f9',\n",
              "   'file_name': 'glove-twitter-200.gz',\n",
              "   'parts': 1},\n",
              "  '__testing_word2vec-matrix-synopsis': {'description': '[THIS IS ONLY FOR TESTING] Word vecrors of the movie matrix.',\n",
              "   'parameters': {'dimensions': 50},\n",
              "   'preprocessing': 'Converted to w2v using a preprocessed corpus. Converted to w2v format with `python3.5 -m gensim.models.word2vec -train <input_filename> -iter 50 -output <output_filename>`.',\n",
              "   'read_more': [],\n",
              "   'checksum': '534dcb8b56a360977a269b7bfc62d124',\n",
              "   'file_name': '__testing_word2vec-matrix-synopsis.gz',\n",
              "   'parts': 1}}}"
            ]
          },
          "execution_count": 4,
          "metadata": {},
          "output_type": "execute_result"
        }
      ],
      "source": [
        "# let's explore what corpora and pre-trained Gensim offers\n",
        "api.info()"
      ]
    },
    {
      "cell_type": "markdown",
      "id": "JqOVYEpoCa2-",
      "metadata": {
        "id": "JqOVYEpoCa2-"
      },
      "source": [
        "The information is stored within a long dictionary of dictionaries, and is quite difficult to read. We can select to visualize only a part of the information."
      ]
    },
    {
      "cell_type": "code",
      "execution_count": 5,
      "id": "fNwxb9EOY25I",
      "metadata": {
        "colab": {
          "base_uri": "https://localhost:8080/"
        },
        "id": "fNwxb9EOY25I",
        "outputId": "90c8c6e4-5682-4183-b588-59c50b4f416c"
      },
      "outputs": [
        {
          "data": {
            "text/plain": [
              "dict_keys(['corpora', 'models'])"
            ]
          },
          "execution_count": 5,
          "metadata": {},
          "output_type": "execute_result"
        }
      ],
      "source": [
        "# check primary keys of dictionary\n",
        "api.info().keys()"
      ]
    },
    {
      "cell_type": "code",
      "execution_count": 6,
      "id": "KKZQWJEq7Nf3",
      "metadata": {
        "colab": {
          "base_uri": "https://localhost:8080/"
        },
        "id": "KKZQWJEq7Nf3",
        "outputId": "d4fe92a2-3c77-47d2-acda-22763ccf67ff"
      },
      "outputs": [
        {
          "data": {
            "text/plain": [
              "dict_keys(['semeval-2016-2017-task3-subtaskBC', 'semeval-2016-2017-task3-subtaskA-unannotated', 'patent-2017', 'quora-duplicate-questions', 'wiki-english-20171001', 'text8', 'fake-news', '20-newsgroups', '__testing_matrix-synopsis', '__testing_multipart-matrix-synopsis'])"
            ]
          },
          "execution_count": 6,
          "metadata": {},
          "output_type": "execute_result"
        }
      ],
      "source": [
        "# let's see which corpora are present\n",
        "api.info()['corpora'].keys()"
      ]
    },
    {
      "cell_type": "code",
      "execution_count": 7,
      "id": "DEPBtPHEZWAq",
      "metadata": {
        "colab": {
          "base_uri": "https://localhost:8080/"
        },
        "id": "DEPBtPHEZWAq",
        "outputId": "dfc2a6be-0d8d-42a4-f101-e572259ac74b"
      },
      "outputs": [
        {
          "data": {
            "text/plain": [
              "{'num_records': 1701,\n",
              " 'record_format': 'list of str (tokens)',\n",
              " 'file_size': 33182058,\n",
              " 'reader_code': 'https://github.com/RaRe-Technologies/gensim-data/releases/download/text8/__init__.py',\n",
              " 'license': 'not found',\n",
              " 'description': 'First 100,000,000 bytes of plain text from Wikipedia. Used for testing purposes; see wiki-english-* for proper full Wikipedia datasets.',\n",
              " 'checksum': '68799af40b6bda07dfa47a32612e5364',\n",
              " 'file_name': 'text8.gz',\n",
              " 'read_more': ['http://mattmahoney.net/dc/textdata.html'],\n",
              " 'parts': 1}"
            ]
          },
          "execution_count": 7,
          "metadata": {},
          "output_type": "execute_result"
        }
      ],
      "source": [
        "# let's visualize more information about corpora \"text8\"\n",
        "api.info('text8')"
      ]
    },
    {
      "cell_type": "markdown",
      "id": "Fca5PLJEQpHB",
      "metadata": {
        "id": "Fca5PLJEQpHB"
      },
      "source": [
        "Pre-trained embeddings are under the key **model**."
      ]
    },
    {
      "cell_type": "code",
      "execution_count": 8,
      "id": "cOjGQ5SRZZUq",
      "metadata": {
        "colab": {
          "base_uri": "https://localhost:8080/"
        },
        "id": "cOjGQ5SRZZUq",
        "outputId": "c3abc622-143b-4b15-ee09-a37591aa76f0"
      },
      "outputs": [
        {
          "data": {
            "text/plain": [
              "dict_keys(['fasttext-wiki-news-subwords-300', 'conceptnet-numberbatch-17-06-300', 'word2vec-ruscorpora-300', 'word2vec-google-news-300', 'glove-wiki-gigaword-50', 'glove-wiki-gigaword-100', 'glove-wiki-gigaword-200', 'glove-wiki-gigaword-300', 'glove-twitter-25', 'glove-twitter-50', 'glove-twitter-100', 'glove-twitter-200', '__testing_word2vec-matrix-synopsis'])"
            ]
          },
          "execution_count": 8,
          "metadata": {},
          "output_type": "execute_result"
        }
      ],
      "source": [
        "# let's see which pre-trained embeddings are present\n",
        "api.info()['models'].keys()"
      ]
    },
    {
      "cell_type": "code",
      "execution_count": 9,
      "id": "2MXy8HNJpDPR",
      "metadata": {
        "colab": {
          "base_uri": "https://localhost:8080/"
        },
        "id": "2MXy8HNJpDPR",
        "outputId": "40a9ab05-fbb8-4eb5-a265-f1060562f170"
      },
      "outputs": [
        {
          "data": {
            "text/plain": [
              "{'num_records': 400000,\n",
              " 'file_size': 394362229,\n",
              " 'base_dataset': 'Wikipedia 2014 + Gigaword 5 (6B tokens, uncased)',\n",
              " 'reader_code': 'https://github.com/RaRe-Technologies/gensim-data/releases/download/glove-wiki-gigaword-300/__init__.py',\n",
              " 'license': 'http://opendatacommons.org/licenses/pddl/',\n",
              " 'parameters': {'dimension': 300},\n",
              " 'description': 'Pre-trained vectors based on Wikipedia 2014 + Gigaword, 5.6B tokens, 400K vocab, uncased (https://nlp.stanford.edu/projects/glove/).',\n",
              " 'preprocessing': 'Converted to w2v format with `python -m gensim.scripts.glove2word2vec -i <fname> -o glove-wiki-gigaword-300.txt`.',\n",
              " 'read_more': ['https://nlp.stanford.edu/projects/glove/',\n",
              "  'https://nlp.stanford.edu/pubs/glove.pdf'],\n",
              " 'checksum': '29e9329ac2241937d55b852e8284e89b',\n",
              " 'file_name': 'glove-wiki-gigaword-300.gz',\n",
              " 'parts': 1}"
            ]
          },
          "execution_count": 9,
          "metadata": {},
          "output_type": "execute_result"
        }
      ],
      "source": [
        "# let's visualize more information about word vectors 'glove-wiki-gigaword-300'\n",
        "api.info('glove-wiki-gigaword-300')"
      ]
    },
    {
      "cell_type": "code",
      "execution_count": 21,
      "id": "a2ce6ee4-c4c5-4782-b404-c15f3ba0b1ad",
      "metadata": {
        "colab": {
          "base_uri": "https://localhost:8080/"
        },
        "id": "a2ce6ee4-c4c5-4782-b404-c15f3ba0b1ad",
        "outputId": "f1cf8ec1-f39d-4e3e-9f0d-ddc66d6a838a",
        "tags": []
      },
      "outputs": [],
      "source": [
        "# we load the embeddings\n",
        "embeddings = api.load('glove-wiki-gigaword-300')"
      ]
    },
    {
      "cell_type": "code",
      "execution_count": 22,
      "id": "JXInUNh1a6q4",
      "metadata": {
        "colab": {
          "base_uri": "https://localhost:8080/"
        },
        "id": "JXInUNh1a6q4",
        "outputId": "2f196bd6-3603-4a66-a744-b0c02e1aa58f"
      },
      "outputs": [
        {
          "data": {
            "text/plain": [
              "<gensim.models.keyedvectors.KeyedVectors at 0x157aac290>"
            ]
          },
          "execution_count": 22,
          "metadata": {},
          "output_type": "execute_result"
        }
      ],
      "source": [
        "embeddings"
      ]
    },
    {
      "cell_type": "markdown",
      "id": "941bbbf7-0af0-43b9-994f-43186b2c0bf5",
      "metadata": {
        "id": "941bbbf7-0af0-43b9-994f-43186b2c0bf5"
      },
      "source": [
        "We are loading a structure called [KeyedVectors](https://radimrehurek.com/gensim/models/keyedvectors.html) and not a model. KeyedVectors do not support additional training but require less RAM than a full model. It is essentially a mapping between keys, in this case **words**, and their **vectors**.\n",
        "\n",
        "There are two properties to access those mappings:\n",
        "* ```key_to_index```, that  returns a dictionary which maps a word present in the vocabulary to its index.\n",
        "* ```index_to_key```, that  returns a dictionary which maps a vocabulary index to a word present in the vocabulary.\n"
      ]
    },
    {
      "cell_type": "code",
      "execution_count": 23,
      "id": "eXRsGLPbqOhD",
      "metadata": {
        "colab": {
          "base_uri": "https://localhost:8080/"
        },
        "id": "eXRsGLPbqOhD",
        "outputId": "ce2c9f56-e450-4283-9104-11b962e46f49"
      },
      "outputs": [
        {
          "data": {
            "text/plain": [
              "{'the': 0,\n",
              " ',': 1,\n",
              " '.': 2,\n",
              " 'of': 3,\n",
              " 'to': 4,\n",
              " 'and': 5,\n",
              " 'in': 6,\n",
              " 'a': 7,\n",
              " '\"': 8,\n",
              " \"'s\": 9,\n",
              " 'for': 10,\n",
              " '-': 11,\n",
              " 'that': 12,\n",
              " 'on': 13,\n",
              " 'is': 14,\n",
              " 'was': 15,\n",
              " 'said': 16,\n",
              " 'with': 17,\n",
              " 'he': 18,\n",
              " 'as': 19,\n",
              " 'it': 20,\n",
              " 'by': 21,\n",
              " 'at': 22,\n",
              " '(': 23,\n",
              " ')': 24,\n",
              " 'from': 25,\n",
              " 'his': 26,\n",
              " \"''\": 27,\n",
              " '``': 28,\n",
              " 'an': 29,\n",
              " 'be': 30,\n",
              " 'has': 31,\n",
              " 'are': 32,\n",
              " 'have': 33,\n",
              " 'but': 34,\n",
              " 'were': 35,\n",
              " 'not': 36,\n",
              " 'this': 37,\n",
              " 'who': 38,\n",
              " 'they': 39,\n",
              " 'had': 40,\n",
              " 'i': 41,\n",
              " 'which': 42,\n",
              " 'will': 43,\n",
              " 'their': 44,\n",
              " ':': 45,\n",
              " 'or': 46,\n",
              " 'its': 47,\n",
              " 'one': 48,\n",
              " 'after': 49,\n",
              " 'new': 50,\n",
              " 'been': 51,\n",
              " 'also': 52,\n",
              " 'we': 53,\n",
              " 'would': 54,\n",
              " 'two': 55,\n",
              " 'more': 56,\n",
              " \"'\": 57,\n",
              " 'first': 58,\n",
              " 'about': 59,\n",
              " 'up': 60,\n",
              " 'when': 61,\n",
              " 'year': 62,\n",
              " 'there': 63,\n",
              " 'all': 64,\n",
              " '--': 65,\n",
              " 'out': 66,\n",
              " 'she': 67,\n",
              " 'other': 68,\n",
              " 'people': 69,\n",
              " \"n't\": 70,\n",
              " 'her': 71,\n",
              " 'percent': 72,\n",
              " 'than': 73,\n",
              " 'over': 74,\n",
              " 'into': 75,\n",
              " 'last': 76,\n",
              " 'some': 77,\n",
              " 'government': 78,\n",
              " 'time': 79,\n",
              " '$': 80,\n",
              " 'you': 81,\n",
              " 'years': 82,\n",
              " 'if': 83,\n",
              " 'no': 84,\n",
              " 'world': 85,\n",
              " 'can': 86,\n",
              " 'three': 87,\n",
              " 'do': 88,\n",
              " ';': 89,\n",
              " 'president': 90,\n",
              " 'only': 91,\n",
              " 'state': 92,\n",
              " 'million': 93,\n",
              " 'could': 94,\n",
              " 'us': 95,\n",
              " 'most': 96,\n",
              " '_': 97,\n",
              " 'against': 98,\n",
              " 'u.s.': 99,\n",
              " 'so': 100,\n",
              " 'them': 101,\n",
              " 'what': 102,\n",
              " 'him': 103,\n",
              " 'united': 104,\n",
              " 'during': 105,\n",
              " 'before': 106,\n",
              " 'may': 107,\n",
              " 'since': 108,\n",
              " 'many': 109,\n",
              " 'while': 110,\n",
              " 'where': 111,\n",
              " 'states': 112,\n",
              " 'because': 113,\n",
              " 'now': 114,\n",
              " 'city': 115,\n",
              " 'made': 116,\n",
              " 'like': 117,\n",
              " 'between': 118,\n",
              " 'did': 119,\n",
              " 'just': 120,\n",
              " 'national': 121,\n",
              " 'day': 122,\n",
              " 'country': 123,\n",
              " 'under': 124,\n",
              " 'such': 125,\n",
              " 'second': 126,\n",
              " 'then': 127,\n",
              " 'company': 128,\n",
              " 'group': 129,\n",
              " 'any': 130,\n",
              " 'through': 131,\n",
              " 'china': 132,\n",
              " 'four': 133,\n",
              " 'being': 134,\n",
              " 'down': 135,\n",
              " 'war': 136,\n",
              " 'back': 137,\n",
              " 'off': 138,\n",
              " 'south': 139,\n",
              " 'american': 140,\n",
              " 'minister': 141,\n",
              " 'police': 142,\n",
              " 'well': 143,\n",
              " 'including': 144,\n",
              " 'team': 145,\n",
              " 'international': 146,\n",
              " 'week': 147,\n",
              " 'officials': 148,\n",
              " 'still': 149,\n",
              " 'both': 150,\n",
              " 'even': 151,\n",
              " 'high': 152,\n",
              " 'part': 153,\n",
              " 'told': 154,\n",
              " 'those': 155,\n",
              " 'end': 156,\n",
              " 'former': 157,\n",
              " 'these': 158,\n",
              " 'make': 159,\n",
              " 'billion': 160,\n",
              " 'work': 161,\n",
              " 'our': 162,\n",
              " 'home': 163,\n",
              " 'school': 164,\n",
              " 'party': 165,\n",
              " 'house': 166,\n",
              " 'old': 167,\n",
              " 'later': 168,\n",
              " 'get': 169,\n",
              " 'another': 170,\n",
              " 'tuesday': 171,\n",
              " 'news': 172,\n",
              " 'long': 173,\n",
              " 'five': 174,\n",
              " 'called': 175,\n",
              " '1': 176,\n",
              " 'wednesday': 177,\n",
              " 'military': 178,\n",
              " 'way': 179,\n",
              " 'used': 180,\n",
              " 'much': 181,\n",
              " 'next': 182,\n",
              " 'monday': 183,\n",
              " 'thursday': 184,\n",
              " 'friday': 185,\n",
              " 'game': 186,\n",
              " 'here': 187,\n",
              " '?': 188,\n",
              " 'should': 189,\n",
              " 'take': 190,\n",
              " 'very': 191,\n",
              " 'my': 192,\n",
              " 'north': 193,\n",
              " 'security': 194,\n",
              " 'season': 195,\n",
              " 'york': 196,\n",
              " 'how': 197,\n",
              " 'public': 198,\n",
              " 'early': 199,\n",
              " 'according': 200,\n",
              " 'several': 201,\n",
              " 'court': 202,\n",
              " 'say': 203,\n",
              " 'around': 204,\n",
              " 'foreign': 205,\n",
              " '10': 206,\n",
              " 'until': 207,\n",
              " 'set': 208,\n",
              " 'political': 209,\n",
              " 'says': 210,\n",
              " 'market': 211,\n",
              " 'however': 212,\n",
              " 'family': 213,\n",
              " 'life': 214,\n",
              " 'same': 215,\n",
              " 'general': 216,\n",
              " '–': 217,\n",
              " 'left': 218,\n",
              " 'good': 219,\n",
              " 'top': 220,\n",
              " 'university': 221,\n",
              " 'going': 222,\n",
              " 'number': 223,\n",
              " 'major': 224,\n",
              " 'known': 225,\n",
              " 'points': 226,\n",
              " 'won': 227,\n",
              " 'six': 228,\n",
              " 'month': 229,\n",
              " 'dollars': 230,\n",
              " 'bank': 231,\n",
              " '2': 232,\n",
              " 'iraq': 233,\n",
              " 'use': 234,\n",
              " 'members': 235,\n",
              " 'each': 236,\n",
              " 'area': 237,\n",
              " 'found': 238,\n",
              " 'official': 239,\n",
              " 'sunday': 240,\n",
              " 'place': 241,\n",
              " 'go': 242,\n",
              " 'based': 243,\n",
              " 'among': 244,\n",
              " 'third': 245,\n",
              " 'times': 246,\n",
              " 'took': 247,\n",
              " 'right': 248,\n",
              " 'days': 249,\n",
              " 'local': 250,\n",
              " 'economic': 251,\n",
              " 'countries': 252,\n",
              " 'see': 253,\n",
              " 'best': 254,\n",
              " 'report': 255,\n",
              " 'killed': 256,\n",
              " 'held': 257,\n",
              " 'business': 258,\n",
              " 'west': 259,\n",
              " 'does': 260,\n",
              " 'own': 261,\n",
              " '%': 262,\n",
              " 'came': 263,\n",
              " 'law': 264,\n",
              " 'months': 265,\n",
              " 'women': 266,\n",
              " \"'re\": 267,\n",
              " 'power': 268,\n",
              " 'think': 269,\n",
              " 'service': 270,\n",
              " 'children': 271,\n",
              " 'bush': 272,\n",
              " 'show': 273,\n",
              " '/': 274,\n",
              " 'help': 275,\n",
              " 'chief': 276,\n",
              " 'saturday': 277,\n",
              " 'system': 278,\n",
              " 'john': 279,\n",
              " 'support': 280,\n",
              " 'series': 281,\n",
              " 'play': 282,\n",
              " 'office': 283,\n",
              " 'following': 284,\n",
              " 'me': 285,\n",
              " 'meeting': 286,\n",
              " 'expected': 287,\n",
              " 'late': 288,\n",
              " 'washington': 289,\n",
              " 'games': 290,\n",
              " 'european': 291,\n",
              " 'league': 292,\n",
              " 'reported': 293,\n",
              " 'final': 294,\n",
              " 'added': 295,\n",
              " 'without': 296,\n",
              " 'british': 297,\n",
              " 'white': 298,\n",
              " 'history': 299,\n",
              " 'man': 300,\n",
              " 'men': 301,\n",
              " 'became': 302,\n",
              " 'want': 303,\n",
              " 'march': 304,\n",
              " 'case': 305,\n",
              " 'few': 306,\n",
              " 'run': 307,\n",
              " 'money': 308,\n",
              " 'began': 309,\n",
              " 'open': 310,\n",
              " 'name': 311,\n",
              " 'trade': 312,\n",
              " 'center': 313,\n",
              " '3': 314,\n",
              " 'israel': 315,\n",
              " 'oil': 316,\n",
              " 'too': 317,\n",
              " 'al': 318,\n",
              " 'film': 319,\n",
              " 'win': 320,\n",
              " 'led': 321,\n",
              " 'east': 322,\n",
              " 'central': 323,\n",
              " '20': 324,\n",
              " 'air': 325,\n",
              " 'come': 326,\n",
              " 'chinese': 327,\n",
              " 'town': 328,\n",
              " 'leader': 329,\n",
              " 'army': 330,\n",
              " 'line': 331,\n",
              " 'never': 332,\n",
              " 'little': 333,\n",
              " 'played': 334,\n",
              " 'prime': 335,\n",
              " 'death': 336,\n",
              " 'companies': 337,\n",
              " 'least': 338,\n",
              " 'put': 339,\n",
              " 'forces': 340,\n",
              " 'past': 341,\n",
              " 'de': 342,\n",
              " 'half': 343,\n",
              " 'june': 344,\n",
              " 'saying': 345,\n",
              " 'know': 346,\n",
              " 'federal': 347,\n",
              " 'french': 348,\n",
              " 'peace': 349,\n",
              " 'earlier': 350,\n",
              " 'capital': 351,\n",
              " 'force': 352,\n",
              " 'great': 353,\n",
              " 'union': 354,\n",
              " 'near': 355,\n",
              " 'released': 356,\n",
              " 'small': 357,\n",
              " 'department': 358,\n",
              " 'every': 359,\n",
              " 'health': 360,\n",
              " 'japan': 361,\n",
              " 'head': 362,\n",
              " 'ago': 363,\n",
              " 'night': 364,\n",
              " 'big': 365,\n",
              " 'cup': 366,\n",
              " 'election': 367,\n",
              " 'region': 368,\n",
              " 'director': 369,\n",
              " 'talks': 370,\n",
              " 'program': 371,\n",
              " 'far': 372,\n",
              " 'today': 373,\n",
              " 'statement': 374,\n",
              " 'july': 375,\n",
              " 'although': 376,\n",
              " 'district': 377,\n",
              " 'again': 378,\n",
              " 'born': 379,\n",
              " 'development': 380,\n",
              " 'leaders': 381,\n",
              " 'council': 382,\n",
              " 'close': 383,\n",
              " 'record': 384,\n",
              " 'along': 385,\n",
              " 'county': 386,\n",
              " 'france': 387,\n",
              " 'went': 388,\n",
              " 'point': 389,\n",
              " 'must': 390,\n",
              " 'spokesman': 391,\n",
              " 'your': 392,\n",
              " 'member': 393,\n",
              " 'plan': 394,\n",
              " 'financial': 395,\n",
              " 'april': 396,\n",
              " 'recent': 397,\n",
              " 'campaign': 398,\n",
              " 'become': 399,\n",
              " 'troops': 400,\n",
              " 'whether': 401,\n",
              " 'lost': 402,\n",
              " 'music': 403,\n",
              " '15': 404,\n",
              " 'got': 405,\n",
              " 'israeli': 406,\n",
              " '30': 407,\n",
              " 'need': 408,\n",
              " '4': 409,\n",
              " 'lead': 410,\n",
              " 'already': 411,\n",
              " 'russia': 412,\n",
              " 'though': 413,\n",
              " 'might': 414,\n",
              " 'free': 415,\n",
              " 'hit': 416,\n",
              " 'rights': 417,\n",
              " '11': 418,\n",
              " 'information': 419,\n",
              " 'away': 420,\n",
              " '12': 421,\n",
              " '5': 422,\n",
              " 'others': 423,\n",
              " 'control': 424,\n",
              " 'within': 425,\n",
              " 'large': 426,\n",
              " 'economy': 427,\n",
              " 'press': 428,\n",
              " 'agency': 429,\n",
              " 'water': 430,\n",
              " 'died': 431,\n",
              " 'career': 432,\n",
              " 'making': 433,\n",
              " '...': 434,\n",
              " 'deal': 435,\n",
              " 'attack': 436,\n",
              " 'side': 437,\n",
              " 'seven': 438,\n",
              " 'better': 439,\n",
              " 'less': 440,\n",
              " 'september': 441,\n",
              " 'once': 442,\n",
              " 'clinton': 443,\n",
              " 'main': 444,\n",
              " 'due': 445,\n",
              " 'committee': 446,\n",
              " 'building': 447,\n",
              " 'conference': 448,\n",
              " 'club': 449,\n",
              " 'january': 450,\n",
              " 'decision': 451,\n",
              " 'stock': 452,\n",
              " 'america': 453,\n",
              " 'given': 454,\n",
              " 'give': 455,\n",
              " 'often': 456,\n",
              " 'announced': 457,\n",
              " 'television': 458,\n",
              " 'industry': 459,\n",
              " 'order': 460,\n",
              " 'young': 461,\n",
              " \"'ve\": 462,\n",
              " 'palestinian': 463,\n",
              " 'age': 464,\n",
              " 'start': 465,\n",
              " 'administration': 466,\n",
              " 'russian': 467,\n",
              " 'prices': 468,\n",
              " 'round': 469,\n",
              " 'december': 470,\n",
              " 'nations': 471,\n",
              " \"'m\": 472,\n",
              " 'human': 473,\n",
              " 'india': 474,\n",
              " 'defense': 475,\n",
              " 'asked': 476,\n",
              " 'total': 477,\n",
              " 'october': 478,\n",
              " 'players': 479,\n",
              " 'bill': 480,\n",
              " 'important': 481,\n",
              " 'southern': 482,\n",
              " 'move': 483,\n",
              " 'fire': 484,\n",
              " 'population': 485,\n",
              " 'rose': 486,\n",
              " 'november': 487,\n",
              " 'include': 488,\n",
              " 'further': 489,\n",
              " 'nuclear': 490,\n",
              " 'street': 491,\n",
              " 'taken': 492,\n",
              " 'media': 493,\n",
              " 'different': 494,\n",
              " 'issue': 495,\n",
              " 'received': 496,\n",
              " 'secretary': 497,\n",
              " 'return': 498,\n",
              " 'college': 499,\n",
              " 'working': 500,\n",
              " 'community': 501,\n",
              " 'eight': 502,\n",
              " 'groups': 503,\n",
              " 'despite': 504,\n",
              " 'level': 505,\n",
              " 'largest': 506,\n",
              " 'whose': 507,\n",
              " 'attacks': 508,\n",
              " 'germany': 509,\n",
              " 'august': 510,\n",
              " 'change': 511,\n",
              " 'church': 512,\n",
              " 'nation': 513,\n",
              " 'german': 514,\n",
              " 'station': 515,\n",
              " 'london': 516,\n",
              " 'weeks': 517,\n",
              " 'having': 518,\n",
              " '18': 519,\n",
              " 'research': 520,\n",
              " 'black': 521,\n",
              " 'services': 522,\n",
              " 'story': 523,\n",
              " '6': 524,\n",
              " 'europe': 525,\n",
              " 'sales': 526,\n",
              " 'policy': 527,\n",
              " 'visit': 528,\n",
              " 'northern': 529,\n",
              " 'lot': 530,\n",
              " 'across': 531,\n",
              " 'per': 532,\n",
              " 'current': 533,\n",
              " 'board': 534,\n",
              " 'football': 535,\n",
              " 'ministry': 536,\n",
              " 'workers': 537,\n",
              " 'vote': 538,\n",
              " 'book': 539,\n",
              " 'fell': 540,\n",
              " 'seen': 541,\n",
              " 'role': 542,\n",
              " 'students': 543,\n",
              " 'shares': 544,\n",
              " 'iran': 545,\n",
              " 'process': 546,\n",
              " 'agreement': 547,\n",
              " 'quarter': 548,\n",
              " 'full': 549,\n",
              " 'match': 550,\n",
              " 'started': 551,\n",
              " 'growth': 552,\n",
              " 'yet': 553,\n",
              " 'moved': 554,\n",
              " 'possible': 555,\n",
              " 'western': 556,\n",
              " 'special': 557,\n",
              " '100': 558,\n",
              " 'plans': 559,\n",
              " 'interest': 560,\n",
              " 'behind': 561,\n",
              " 'strong': 562,\n",
              " 'england': 563,\n",
              " 'named': 564,\n",
              " 'food': 565,\n",
              " 'period': 566,\n",
              " 'real': 567,\n",
              " 'authorities': 568,\n",
              " 'car': 569,\n",
              " 'term': 570,\n",
              " 'rate': 571,\n",
              " 'race': 572,\n",
              " 'nearly': 573,\n",
              " 'korea': 574,\n",
              " 'enough': 575,\n",
              " 'site': 576,\n",
              " 'opposition': 577,\n",
              " 'keep': 578,\n",
              " '25': 579,\n",
              " 'call': 580,\n",
              " 'future': 581,\n",
              " 'taking': 582,\n",
              " 'island': 583,\n",
              " '2008': 584,\n",
              " '2006': 585,\n",
              " 'road': 586,\n",
              " 'outside': 587,\n",
              " 'really': 588,\n",
              " 'century': 589,\n",
              " 'democratic': 590,\n",
              " 'almost': 591,\n",
              " 'single': 592,\n",
              " 'share': 593,\n",
              " 'leading': 594,\n",
              " 'trying': 595,\n",
              " 'find': 596,\n",
              " 'album': 597,\n",
              " 'senior': 598,\n",
              " 'minutes': 599,\n",
              " 'together': 600,\n",
              " 'congress': 601,\n",
              " 'index': 602,\n",
              " 'australia': 603,\n",
              " 'results': 604,\n",
              " 'hard': 605,\n",
              " 'hours': 606,\n",
              " 'land': 607,\n",
              " 'action': 608,\n",
              " 'higher': 609,\n",
              " 'field': 610,\n",
              " 'cut': 611,\n",
              " 'coach': 612,\n",
              " 'elections': 613,\n",
              " 'san': 614,\n",
              " 'issues': 615,\n",
              " 'executive': 616,\n",
              " 'february': 617,\n",
              " 'production': 618,\n",
              " 'areas': 619,\n",
              " 'river': 620,\n",
              " 'face': 621,\n",
              " 'using': 622,\n",
              " 'japanese': 623,\n",
              " 'province': 624,\n",
              " 'park': 625,\n",
              " 'price': 626,\n",
              " 'commission': 627,\n",
              " 'california': 628,\n",
              " 'father': 629,\n",
              " 'son': 630,\n",
              " 'education': 631,\n",
              " '7': 632,\n",
              " 'village': 633,\n",
              " 'energy': 634,\n",
              " 'shot': 635,\n",
              " 'short': 636,\n",
              " 'africa': 637,\n",
              " 'key': 638,\n",
              " 'red': 639,\n",
              " 'association': 640,\n",
              " 'average': 641,\n",
              " 'pay': 642,\n",
              " 'exchange': 643,\n",
              " 'eu': 644,\n",
              " 'something': 645,\n",
              " 'gave': 646,\n",
              " 'likely': 647,\n",
              " 'player': 648,\n",
              " 'george': 649,\n",
              " '2007': 650,\n",
              " 'victory': 651,\n",
              " '8': 652,\n",
              " 'low': 653,\n",
              " 'things': 654,\n",
              " '2010': 655,\n",
              " 'pakistan': 656,\n",
              " '14': 657,\n",
              " 'post': 658,\n",
              " 'social': 659,\n",
              " 'continue': 660,\n",
              " 'ever': 661,\n",
              " 'look': 662,\n",
              " 'chairman': 663,\n",
              " 'job': 664,\n",
              " '2000': 665,\n",
              " 'soldiers': 666,\n",
              " 'able': 667,\n",
              " 'parliament': 668,\n",
              " 'front': 669,\n",
              " 'himself': 670,\n",
              " 'problems': 671,\n",
              " 'private': 672,\n",
              " 'lower': 673,\n",
              " 'list': 674,\n",
              " 'built': 675,\n",
              " '13': 676,\n",
              " 'efforts': 677,\n",
              " 'dollar': 678,\n",
              " 'miles': 679,\n",
              " 'included': 680,\n",
              " 'radio': 681,\n",
              " 'live': 682,\n",
              " 'form': 683,\n",
              " 'david': 684,\n",
              " 'african': 685,\n",
              " 'increase': 686,\n",
              " 'reports': 687,\n",
              " 'sent': 688,\n",
              " 'fourth': 689,\n",
              " 'always': 690,\n",
              " 'king': 691,\n",
              " '50': 692,\n",
              " 'tax': 693,\n",
              " 'taiwan': 694,\n",
              " 'britain': 695,\n",
              " '16': 696,\n",
              " 'playing': 697,\n",
              " 'title': 698,\n",
              " 'middle': 699,\n",
              " 'meet': 700,\n",
              " 'global': 701,\n",
              " 'wife': 702,\n",
              " '2009': 703,\n",
              " 'position': 704,\n",
              " 'located': 705,\n",
              " 'clear': 706,\n",
              " 'ahead': 707,\n",
              " '2004': 708,\n",
              " '2005': 709,\n",
              " 'iraqi': 710,\n",
              " 'english': 711,\n",
              " 'result': 712,\n",
              " 'release': 713,\n",
              " 'violence': 714,\n",
              " 'goal': 715,\n",
              " 'project': 716,\n",
              " 'closed': 717,\n",
              " 'border': 718,\n",
              " 'body': 719,\n",
              " 'soon': 720,\n",
              " 'crisis': 721,\n",
              " 'division': 722,\n",
              " '&amp;': 723,\n",
              " 'served': 724,\n",
              " 'tour': 725,\n",
              " 'hospital': 726,\n",
              " 'kong': 727,\n",
              " 'test': 728,\n",
              " 'hong': 729,\n",
              " 'u.n.': 730,\n",
              " 'inc.': 731,\n",
              " 'technology': 732,\n",
              " 'believe': 733,\n",
              " 'organization': 734,\n",
              " 'published': 735,\n",
              " 'weapons': 736,\n",
              " 'agreed': 737,\n",
              " 'why': 738,\n",
              " 'nine': 739,\n",
              " 'summer': 740,\n",
              " 'wanted': 741,\n",
              " 'republican': 742,\n",
              " 'act': 743,\n",
              " 'recently': 744,\n",
              " 'texas': 745,\n",
              " 'course': 746,\n",
              " 'problem': 747,\n",
              " 'senate': 748,\n",
              " 'medical': 749,\n",
              " 'un': 750,\n",
              " 'done': 751,\n",
              " 'reached': 752,\n",
              " 'star': 753,\n",
              " 'continued': 754,\n",
              " 'investors': 755,\n",
              " 'living': 756,\n",
              " 'care': 757,\n",
              " 'signed': 758,\n",
              " '17': 759,\n",
              " 'art': 760,\n",
              " 'provide': 761,\n",
              " 'worked': 762,\n",
              " 'presidential': 763,\n",
              " 'gold': 764,\n",
              " 'obama': 765,\n",
              " 'morning': 766,\n",
              " 'dead': 767,\n",
              " 'opened': 768,\n",
              " \"'ll\": 769,\n",
              " 'event': 770,\n",
              " 'previous': 771,\n",
              " 'cost': 772,\n",
              " 'instead': 773,\n",
              " 'canada': 774,\n",
              " 'band': 775,\n",
              " 'teams': 776,\n",
              " 'daily': 777,\n",
              " '2001': 778,\n",
              " 'available': 779,\n",
              " 'drug': 780,\n",
              " 'coming': 781,\n",
              " '2003': 782,\n",
              " 'investment': 783,\n",
              " '’s': 784,\n",
              " 'michael': 785,\n",
              " 'civil': 786,\n",
              " 'woman': 787,\n",
              " 'training': 788,\n",
              " 'appeared': 789,\n",
              " '9': 790,\n",
              " 'involved': 791,\n",
              " 'indian': 792,\n",
              " 'similar': 793,\n",
              " 'situation': 794,\n",
              " '24': 795,\n",
              " 'los': 796,\n",
              " 'running': 797,\n",
              " 'fighting': 798,\n",
              " 'mark': 799,\n",
              " '40': 800,\n",
              " 'trial': 801,\n",
              " 'hold': 802,\n",
              " 'australian': 803,\n",
              " 'thought': 804,\n",
              " '!': 805,\n",
              " 'study': 806,\n",
              " 'fall': 807,\n",
              " 'mother': 808,\n",
              " 'met': 809,\n",
              " 'relations': 810,\n",
              " 'anti': 811,\n",
              " '2002': 812,\n",
              " 'song': 813,\n",
              " 'popular': 814,\n",
              " 'base': 815,\n",
              " 'tv': 816,\n",
              " 'ground': 817,\n",
              " 'markets': 818,\n",
              " 'ii': 819,\n",
              " 'newspaper': 820,\n",
              " 'staff': 821,\n",
              " 'saw': 822,\n",
              " 'hand': 823,\n",
              " 'hope': 824,\n",
              " 'operations': 825,\n",
              " 'pressure': 826,\n",
              " 'americans': 827,\n",
              " 'eastern': 828,\n",
              " 'st.': 829,\n",
              " 'legal': 830,\n",
              " 'asia': 831,\n",
              " 'budget': 832,\n",
              " 'returned': 833,\n",
              " 'considered': 834,\n",
              " 'love': 835,\n",
              " 'wrote': 836,\n",
              " 'stop': 837,\n",
              " 'fight': 838,\n",
              " 'currently': 839,\n",
              " 'charges': 840,\n",
              " 'try': 841,\n",
              " 'aid': 842,\n",
              " 'ended': 843,\n",
              " 'management': 844,\n",
              " 'brought': 845,\n",
              " 'cases': 846,\n",
              " 'decided': 847,\n",
              " 'failed': 848,\n",
              " 'network': 849,\n",
              " 'works': 850,\n",
              " 'gas': 851,\n",
              " 'turned': 852,\n",
              " 'fact': 853,\n",
              " 'vice': 854,\n",
              " 'ca': 855,\n",
              " 'mexico': 856,\n",
              " 'trading': 857,\n",
              " 'especially': 858,\n",
              " 'reporters': 859,\n",
              " 'afghanistan': 860,\n",
              " 'common': 861,\n",
              " 'looking': 862,\n",
              " 'space': 863,\n",
              " 'rates': 864,\n",
              " 'manager': 865,\n",
              " 'loss': 866,\n",
              " '2011': 867,\n",
              " 'justice': 868,\n",
              " 'thousands': 869,\n",
              " 'james': 870,\n",
              " 'rather': 871,\n",
              " 'fund': 872,\n",
              " 'thing': 873,\n",
              " 'republic': 874,\n",
              " 'opening': 875,\n",
              " 'accused': 876,\n",
              " 'winning': 877,\n",
              " 'scored': 878,\n",
              " 'championship': 879,\n",
              " 'example': 880,\n",
              " 'getting': 881,\n",
              " 'biggest': 882,\n",
              " 'performance': 883,\n",
              " 'sports': 884,\n",
              " '1998': 885,\n",
              " 'let': 886,\n",
              " 'allowed': 887,\n",
              " 'schools': 888,\n",
              " 'means': 889,\n",
              " 'turn': 890,\n",
              " 'leave': 891,\n",
              " 'no.': 892,\n",
              " 'robert': 893,\n",
              " 'personal': 894,\n",
              " 'stocks': 895,\n",
              " 'showed': 896,\n",
              " 'light': 897,\n",
              " 'arrested': 898,\n",
              " 'person': 899,\n",
              " 'either': 900,\n",
              " 'offer': 901,\n",
              " 'majority': 902,\n",
              " 'battle': 903,\n",
              " '19': 904,\n",
              " 'class': 905,\n",
              " 'evidence': 906,\n",
              " 'makes': 907,\n",
              " 'society': 908,\n",
              " 'products': 909,\n",
              " 'regional': 910,\n",
              " 'needed': 911,\n",
              " 'stage': 912,\n",
              " 'am': 913,\n",
              " 'doing': 914,\n",
              " 'families': 915,\n",
              " 'construction': 916,\n",
              " 'various': 917,\n",
              " '1996': 918,\n",
              " 'sold': 919,\n",
              " 'independent': 920,\n",
              " 'kind': 921,\n",
              " 'airport': 922,\n",
              " 'paul': 923,\n",
              " 'judge': 924,\n",
              " 'internet': 925,\n",
              " 'movement': 926,\n",
              " 'room': 927,\n",
              " 'followed': 928,\n",
              " 'original': 929,\n",
              " 'angeles': 930,\n",
              " 'italy': 931,\n",
              " '`': 932,\n",
              " 'data': 933,\n",
              " 'comes': 934,\n",
              " 'parties': 935,\n",
              " 'nothing': 936,\n",
              " 'sea': 937,\n",
              " 'bring': 938,\n",
              " '2012': 939,\n",
              " 'annual': 940,\n",
              " 'officer': 941,\n",
              " 'beijing': 942,\n",
              " 'present': 943,\n",
              " 'remain': 944,\n",
              " 'nato': 945,\n",
              " '1999': 946,\n",
              " '22': 947,\n",
              " 'remains': 948,\n",
              " 'allow': 949,\n",
              " 'florida': 950,\n",
              " 'computer': 951,\n",
              " '21': 952,\n",
              " 'contract': 953,\n",
              " 'coast': 954,\n",
              " 'created': 955,\n",
              " 'demand': 956,\n",
              " 'operation': 957,\n",
              " 'events': 958,\n",
              " 'islamic': 959,\n",
              " 'beat': 960,\n",
              " 'analysts': 961,\n",
              " 'interview': 962,\n",
              " 'helped': 963,\n",
              " 'child': 964,\n",
              " 'probably': 965,\n",
              " 'spent': 966,\n",
              " 'asian': 967,\n",
              " 'effort': 968,\n",
              " 'cooperation': 969,\n",
              " 'shows': 970,\n",
              " 'calls': 971,\n",
              " 'investigation': 972,\n",
              " 'lives': 973,\n",
              " 'video': 974,\n",
              " 'yen': 975,\n",
              " 'runs': 976,\n",
              " 'tried': 977,\n",
              " 'bad': 978,\n",
              " 'described': 979,\n",
              " '1994': 980,\n",
              " 'toward': 981,\n",
              " 'written': 982,\n",
              " 'throughout': 983,\n",
              " 'established': 984,\n",
              " 'mission': 985,\n",
              " 'associated': 986,\n",
              " 'buy': 987,\n",
              " 'growing': 988,\n",
              " 'green': 989,\n",
              " 'forward': 990,\n",
              " 'competition': 991,\n",
              " 'poor': 992,\n",
              " 'latest': 993,\n",
              " 'banks': 994,\n",
              " 'question': 995,\n",
              " '1997': 996,\n",
              " 'prison': 997,\n",
              " 'feel': 998,\n",
              " 'attention': 999,\n",
              " ...}"
            ]
          },
          "execution_count": 23,
          "metadata": {},
          "output_type": "execute_result"
        }
      ],
      "source": [
        "# the dictionary is usually sorted by index. The lower the index, the more common the word was in the corpora.\n",
        "embeddings.key_to_index"
      ]
    },
    {
      "cell_type": "code",
      "execution_count": 24,
      "id": "NPH3CfXzzVKz",
      "metadata": {
        "colab": {
          "base_uri": "https://localhost:8080/"
        },
        "id": "NPH3CfXzzVKz",
        "outputId": "a60b8089-ea13-4889-ab9e-2027df10a923"
      },
      "outputs": [
        {
          "name": "stdout",
          "output_type": "stream",
          "text": [
            "True\n",
            "(300,)\n",
            "69\n",
            "people\n"
          ]
        }
      ],
      "source": [
        "# we can check if a word is present in the vocabulary\n",
        "print(\"people\" in embeddings)\n",
        "# we can also print its shape. The lenght of our vector is 300 -> d\n",
        "print(embeddings['people'].shape)\n",
        "# we can check the index of a single word\n",
        "print(embeddings.key_to_index['people'])\n",
        "# we can check the word associated to a specific index\n",
        "print(embeddings.index_to_key[69])"
      ]
    },
    {
      "cell_type": "markdown",
      "id": "I04V7R9tLcIv",
      "metadata": {
        "id": "I04V7R9tLcIv"
      },
      "source": [
        "We can access vectors both by using a key or an index."
      ]
    },
    {
      "cell_type": "code",
      "execution_count": 25,
      "id": "W6NVYdubtx24",
      "metadata": {
        "colab": {
          "base_uri": "https://localhost:8080/"
        },
        "id": "W6NVYdubtx24",
        "outputId": "87f6feeb-ff59-44be-9b75-58ef232e5958"
      },
      "outputs": [
        {
          "data": {
            "text/plain": [
              "array([-0.41355  ,  0.076012 ,  0.099178 , -0.01195  ,  0.018657 ,\n",
              "        0.050379 , -0.03678  ,  0.45022  ,  0.039699 , -1.8194   ,\n",
              "       -0.0034032, -0.45506  ,  0.030772 ,  0.33461  ,  0.15492  ,\n",
              "        0.25854  , -0.026736 ,  0.444    ,  0.023157 ,  0.35519  ,\n",
              "        0.12143  ,  0.63859  ,  0.47899  ,  0.12928  , -0.49584  ,\n",
              "        0.10562  ,  0.09496  ,  0.038941 ,  0.29463  , -0.26588  ],\n",
              "      dtype=float32)"
            ]
          },
          "execution_count": 25,
          "metadata": {},
          "output_type": "execute_result"
        }
      ],
      "source": [
        "# let's check the first 30 positions of the vectors.\n",
        "embeddings['people'][0:30]"
      ]
    },
    {
      "cell_type": "code",
      "execution_count": 26,
      "id": "BmPY5btyeDNv",
      "metadata": {
        "colab": {
          "base_uri": "https://localhost:8080/"
        },
        "id": "BmPY5btyeDNv",
        "outputId": "51f89ea6-5bda-4ba2-925c-e1153b266f65"
      },
      "outputs": [
        {
          "data": {
            "text/plain": [
              "array([-0.41355  ,  0.076012 ,  0.099178 , -0.01195  ,  0.018657 ,\n",
              "        0.050379 , -0.03678  ,  0.45022  ,  0.039699 , -1.8194   ,\n",
              "       -0.0034032, -0.45506  ,  0.030772 ,  0.33461  ,  0.15492  ,\n",
              "        0.25854  , -0.026736 ,  0.444    ,  0.023157 ,  0.35519  ,\n",
              "        0.12143  ,  0.63859  ,  0.47899  ,  0.12928  , -0.49584  ,\n",
              "        0.10562  ,  0.09496  ,  0.038941 ,  0.29463  , -0.26588  ],\n",
              "      dtype=float32)"
            ]
          },
          "execution_count": 26,
          "metadata": {},
          "output_type": "execute_result"
        }
      ],
      "source": [
        "embeddings[69][0:30]"
      ]
    },
    {
      "cell_type": "markdown",
      "id": "Mw1NX5srPlku",
      "metadata": {
        "id": "Mw1NX5srPlku"
      },
      "source": [
        "As you can see the vector is stored as a NumPy array. [NumPy](https://numpy.org/doc/stable/) is a library used for working with arrays. We can use it to check if the vectors are equal."
      ]
    },
    {
      "cell_type": "code",
      "execution_count": 27,
      "id": "NroIskxELjEo",
      "metadata": {
        "colab": {
          "base_uri": "https://localhost:8080/"
        },
        "id": "NroIskxELjEo",
        "outputId": "b709bba1-ddc2-432b-e463-554ecdb4a4f5"
      },
      "outputs": [
        {
          "data": {
            "text/plain": [
              "True"
            ]
          },
          "execution_count": 27,
          "metadata": {},
          "output_type": "execute_result"
        }
      ],
      "source": [
        "# import library\n",
        "import numpy as np\n",
        "# we check if two arrays have the same shape and elements\n",
        "np.array_equal(embeddings['people'],embeddings[69])"
      ]
    },
    {
      "cell_type": "markdown",
      "id": "rgkgkdZ4LVh_",
      "metadata": {
        "id": "rgkgkdZ4LVh_"
      },
      "source": [
        "The values are the same!\n",
        "We can also extract multiple embeddings, we are not limited to one."
      ]
    },
    {
      "cell_type": "code",
      "execution_count": 28,
      "id": "sucdKEQoVpYK",
      "metadata": {
        "colab": {
          "base_uri": "https://localhost:8080/"
        },
        "id": "sucdKEQoVpYK",
        "outputId": "28f13c9e-c0f2-47cd-d272-f83ba385f7b3"
      },
      "outputs": [
        {
          "name": "stdout",
          "output_type": "stream",
          "text": [
            "(3, 300)\n",
            "True\n",
            "True\n",
            "True\n"
          ]
        }
      ],
      "source": [
        "multiple_embeddings = embeddings['people','men', 'women']\n",
        "# check array shape, it has 2 dimensions (n_words * vectors_lenght)\n",
        "print(multiple_embeddings.shape)\n",
        "# the order of extraction is the same as the order of the words\n",
        "print(np.array_equal(embeddings['people'], multiple_embeddings[0]))\n",
        "print(np.array_equal(embeddings['men'], multiple_embeddings[1]))\n",
        "print(np.array_equal(embeddings['women'], multiple_embeddings[2]))"
      ]
    },
    {
      "cell_type": "markdown",
      "id": "OTtu3E5vkmpo",
      "metadata": {
        "id": "OTtu3E5vkmpo"
      },
      "source": [
        "We can check how similar two vectors are using the cosine similarity.\n",
        "Gensim offers functions to do just that:\n",
        "\n",
        "\n",
        "*   [```similarity```](https://radimrehurek.com/gensim/models/keyedvectors.html#gensim.models.keyedvectors.KeyedVectors.similarity) computes the cosine similarities between two words in the vocabulary.\n",
        "*   [```cosine_similarities```](https://radimrehurek.com/gensim/models/keyedvectors.html#gensim.models.keyedvectors.KeyedVectors.cosine_similarities) works on vectors, and computes the cosine similarities between one vector and an array of other vectors.\n",
        "\n",
        "Otherwise it is possible to use sklearn function [`cosine_similarity`](https://scikit-learn.org/stable/modules/generated/sklearn.metrics.pairwise.cosine_similarity.html)."
      ]
    },
    {
      "cell_type": "code",
      "execution_count": 29,
      "id": "-8XtXSQPvLe0",
      "metadata": {
        "colab": {
          "base_uri": "https://localhost:8080/"
        },
        "id": "-8XtXSQPvLe0",
        "outputId": "3a8bfbad-1501-4028-bdba-ea3dfcf7268a"
      },
      "outputs": [
        {
          "name": "stdout",
          "output_type": "stream",
          "text": [
            "0.76569206\n",
            "0.4872687\n",
            "0.49114287\n",
            "0.5733021\n",
            "[[0.57330203]]\n",
            "[0.48726878 0.49114284 0.57330215]\n"
          ]
        },
        {
          "data": {
            "text/plain": [
              "'last line is incorrect the correct code:\\nprint(cosine_similarity(\\n    [embeddings[word] for word in [\"people\", \"men\"]],\\n    [embeddings[word] for word in [\"men\", \"women\", \"children\"]]\\n))\\n'"
            ]
          },
          "execution_count": 29,
          "metadata": {},
          "output_type": "execute_result"
        }
      ],
      "source": [
        "from sklearn.metrics.pairwise import cosine_similarity\n",
        "# single words\n",
        "print(embeddings.similarity(\"women\", \"men\")) # returns a scalar between -1 and 1\n",
        "print(embeddings.similarity(\"people\", \"men\"))\n",
        "print(embeddings.similarity(\"people\", \"women\"))\n",
        "print(embeddings.similarity(\"people\", \"children\"))\n",
        "print(cosine_similarity([embeddings[\"people\"]], embeddings[[\"children\"]]))\n",
        "# multiple words\n",
        "print(embeddings.cosine_similarities(embeddings[\"people\"], embeddings[\"men\", \"women\", \"children\"]))\n",
        "cosine_similarity(embeddings[\"people\",\"men\"], embeddings[\"men\", \"women\", \"children\"])\n",
        "\"\"\"last line is incorrect the correct code:\n",
        "print(cosine_similarity(\n",
        "    [embeddings[word] for word in [\"people\", \"men\"]],\n",
        "    [embeddings[word] for word in [\"men\", \"women\", \"children\"]]\n",
        "))\n",
        "\"\"\""
      ]
    },
    {
      "cell_type": "code",
      "execution_count": 30,
      "id": "jQJHQYQhxX2a",
      "metadata": {
        "colab": {
          "base_uri": "https://localhost:8080/"
        },
        "id": "jQJHQYQhxX2a",
        "outputId": "d9d316ed-fb80-4126-d9e2-63db61a1adff"
      },
      "outputs": [
        {
          "name": "stdout",
          "output_type": "stream",
          "text": [
            "[[0.4872688949108124, 0.49114280939102173, 0.573302149772644], [1.0000001192092896, 0.7656920552253723, 0.3948274552822113]]\n"
          ]
        }
      ],
      "source": [
        "# the output is an array, but we can convert it into a list\n",
        "print(cosine_similarity(embeddings[\"people\", \"men\"], embeddings[\"men\", \"women\", \"children\"]).tolist())"
      ]
    },
    {
      "cell_type": "markdown",
      "id": "9IJI03Y5lIy2",
      "metadata": {
        "id": "9IJI03Y5lIy2"
      },
      "source": [
        "It can also be useful to check for possible biases in the dataset"
      ]
    },
    {
      "cell_type": "code",
      "execution_count": 31,
      "id": "bQc2rh1PiTq7",
      "metadata": {
        "colab": {
          "base_uri": "https://localhost:8080/"
        },
        "id": "bQc2rh1PiTq7",
        "outputId": "2bbfcf34-0d8a-4734-fd63-9b64ec04c448"
      },
      "outputs": [
        {
          "name": "stdout",
          "output_type": "stream",
          "text": [
            "[0.36857778 0.1696902 ]\n"
          ]
        }
      ],
      "source": [
        "print(embeddings.cosine_similarities(embeddings[\"soldier\"], embeddings[\"men\",\"women\"]))"
      ]
    },
    {
      "cell_type": "markdown",
      "id": "jLs1IPsAlRdE",
      "metadata": {
        "id": "jLs1IPsAlRdE"
      },
      "source": [
        "We can also check how dissimilar two vectors are using the cosine distance. This is equal to ```1 - cosine_similarity```.\n",
        "\n",
        "There are specific Gensim functions to achieve that:\n",
        "\n",
        "\n",
        "*   [```distance```](https://radimrehurek.com/gensim/models/keyedvectors.html#gensim.models.keyedvectors.KeyedVectors.distance) computes the cosine similarities between two words in the vocabulary\n",
        "*   [```distances```](https://radimrehurek.com/gensim/models/keyedvectors.html#gensim.models.keyedvectors.KeyedVectors.distances) computes the cosine similarities between one word and a list of other words\n",
        "\n",
        "Otherwise it is possible to use sklearn function [`cosine_distances`](https://scikit-learn.org/stable/modules/generated/sklearn.metrics.pairwise.cosine_distances.html)."
      ]
    },
    {
      "cell_type": "code",
      "execution_count": 32,
      "id": "bzBcssQRvdqx",
      "metadata": {
        "colab": {
          "base_uri": "https://localhost:8080/"
        },
        "id": "bzBcssQRvdqx",
        "outputId": "381b57b8-1f1f-41ad-9e1f-552678fa882e"
      },
      "outputs": [
        {
          "name": "stdout",
          "output_type": "stream",
          "text": [
            "0.5127313137054443\n",
            "0.5088571310043335\n",
            "0.42669790983200073\n",
            "[[0.42669797]]\n",
            "[0.5127312  0.50885713 0.42669785]\n",
            "[[0.5127314  0.5088572  0.42669797]]\n"
          ]
        }
      ],
      "source": [
        "from sklearn.metrics.pairwise import cosine_distances\n",
        "# single words\n",
        "print(embeddings.distance(\"people\", \"men\"))\n",
        "print(embeddings.distance(\"people\", \"women\"))\n",
        "print(embeddings.distance(\"people\", \"children\"))\n",
        "print(cosine_distances([embeddings[\"people\"]], [embeddings[\"children\"]]))\n",
        "# multiple words\n",
        "print(embeddings.distances(\"people\", [\"men\",\"women\",\"children\"]))\n",
        "print(cosine_distances([embeddings[\"people\"]], embeddings[\"men\", \"women\", \"children\"]))"
      ]
    },
    {
      "cell_type": "markdown",
      "id": "fad14c49-be5f-43cb-bf7e-6b369e84158e",
      "metadata": {
        "id": "fad14c49-be5f-43cb-bf7e-6b369e84158e",
        "tags": []
      },
      "source": [
        "Another useful Gensim function is [`most_similar`](https://radimrehurek.com/gensim/models/keyedvectors.html#gensim.models.keyedvectors.KeyedVectors.most_similar), that finds the top-n most similar keys.\n",
        "The most important arguments are:\n",
        "* ```positive [str or list] ``` : required, word or list of words that contribute positively (sum).\n",
        "* ```negative [str or list] ``` : optional, list of words that contribute negatively (difference).\n",
        "* ```topn [int] ```: optional shows only the n most similar words, the default is 10\n",
        "* ```restrict_vocab [int] ```: optional checks only the first vectors in the vocabulary order."
      ]
    },
    {
      "cell_type": "code",
      "execution_count": 33,
      "id": "jdOvP6LzvpLu",
      "metadata": {
        "colab": {
          "base_uri": "https://localhost:8080/"
        },
        "id": "jdOvP6LzvpLu",
        "outputId": "a237b12d-31a9-4304-dbbd-9668d00438d8"
      },
      "outputs": [
        {
          "name": "stdout",
          "output_type": "stream",
          "text": [
            "Most similar words to people: [('others', 0.686941385269165), ('those', 0.6752000451087952), ('least', 0.6725972294807434), ('many', 0.6488875150680542), ('some', 0.647350549697876), ('all', 0.6324365139007568), ('them', 0.6265103816986084), ('thousands', 0.6232550740242004), ('hundreds', 0.6210679411888123), ('there', 0.6197642087936401)]\n",
            "Most similar words to men: [('women', 0.7656919956207275), ('man', 0.5819568037986755), ('soldiers', 0.5340593457221985), ('who', 0.5212128758430481), ('boys', 0.515128493309021), ('young', 0.5093549489974976), ('male', 0.5081118941307068), ('they', 0.5072553753852844), ('girls', 0.5066787600517273), ('four', 0.4968618154525757)]\n",
            "Most similar words to women: [('men', 0.7656920552253723), ('girls', 0.6347202062606812), ('female', 0.6183490753173828), ('woman', 0.6047608852386475), ('male', 0.549830436706543), ('mothers', 0.5313720703125), ('athletes', 0.5268537402153015), ('she', 0.5137521028518677), ('young', 0.5133211016654968), ('children', 0.5079673528671265)]\n",
            "Most similar words to children: [('parents', 0.7491094470024109), ('child', 0.7450329065322876), ('kids', 0.7306383848190308), ('daughters', 0.6313073039054871), ('girls', 0.6301778554916382), ('youngsters', 0.6256750226020813), ('mothers', 0.6151428818702698), ('adults', 0.6124816536903381), ('teenagers', 0.609442949295044), ('babies', 0.6089956164360046)]\n"
          ]
        }
      ],
      "source": [
        "words_of_interest = [\"people\", \"men\", \"women\", \"children\"]\n",
        "for word in words_of_interest:\n",
        "  print(\"Most similar words to {}:\".format(word), embeddings.most_similar(positive=word))\n",
        "  # it is not necessary to explict 'positive', the following command works too: embeddings.most_similar(word))"
      ]
    },
    {
      "cell_type": "markdown",
      "id": "FlVGJlGZ899E",
      "metadata": {
        "id": "FlVGJlGZ899E"
      },
      "source": [
        "## Embedding visualization\n",
        "In some cases we would like to visualize the embeddings we are working on. For example we may want to verify if each word in **words_of_interest** is close to their most similar embeddings, but the word vectors we chose have 300 dimensions!\n",
        "\n",
        "In these cases, we can use dimensionality reduction techniques, such as PCA, to map the data into a lower-dimensional space."
      ]
    },
    {
      "cell_type": "code",
      "execution_count": 34,
      "id": "-P0eLVkg5A9o",
      "metadata": {
        "colab": {
          "base_uri": "https://localhost:8080/",
          "height": 738
        },
        "id": "-P0eLVkg5A9o",
        "outputId": "da6e7ee2-23bc-428e-a72f-db69043a56c6"
      },
      "outputs": [
        {
          "name": "stdout",
          "output_type": "stream",
          "text": [
            "      pca_x     pca_y     pca_z       word word_of_interest\n",
            "0  2.258327 -0.224893 -0.214740     others           people\n",
            "1  2.401895 -0.370787  0.098497      those           people\n",
            "2  2.437699  0.281364 -0.034982      least           people\n",
            "3  2.803550 -0.351856 -0.026791       many           people\n",
            "4  2.997282 -0.086209  0.260802       some           people\n",
            "5  2.344113  0.103569  0.783274        all           people\n",
            "6  2.186096 -0.392151  0.340698       them           people\n",
            "7  3.144877 -1.094648 -0.976586  thousands           people\n",
            "8  3.135204 -0.937667 -0.556547   hundreds           people\n",
            "9  2.373470  0.073515  0.611271      there           people\n"
          ]
        },
        {
          "data": {
            "application/vnd.plotly.v1+json": {
              "config": {
                "plotlyServerURL": "https://plot.ly"
              },
              "data": [
                {
                  "hovertemplate": "word_of_interest=people<br>pca_x=%{x}<br>pca_y=%{y}<br>pca_z=%{z}<br>word=%{text}<extra></extra>",
                  "legendgroup": "people",
                  "marker": {
                    "color": "#636efa",
                    "opacity": 0.7,
                    "symbol": "circle"
                  },
                  "mode": "markers+text",
                  "name": "people",
                  "scene": "scene",
                  "showlegend": true,
                  "text": [
                    "others",
                    "those",
                    "least",
                    "many",
                    "some",
                    "all",
                    "them",
                    "thousands",
                    "hundreds",
                    "there"
                  ],
                  "type": "scatter3d",
                  "x": [
                    2.2583274841308594,
                    2.401895046234131,
                    2.4376986026763916,
                    2.8035495281219482,
                    2.997282028198242,
                    2.3441131114959717,
                    2.18609619140625,
                    3.1448771953582764,
                    3.1352038383483887,
                    2.3734703063964844
                  ],
                  "y": [
                    -0.22489280998706818,
                    -0.3707869052886963,
                    0.2813641428947449,
                    -0.3518560826778412,
                    -0.0862087681889534,
                    0.10356862843036652,
                    -0.39215055108070374,
                    -1.0946481227874756,
                    -0.9376674294471741,
                    0.07351475208997726
                  ],
                  "z": [
                    -0.21473990380764008,
                    0.09849712252616882,
                    -0.03498181328177452,
                    -0.026791343465447426,
                    0.2608022093772888,
                    0.7832738161087036,
                    0.34069764614105225,
                    -0.9765860438346863,
                    -0.5565472841262817,
                    0.6112708449363708
                  ]
                },
                {
                  "hovertemplate": "word_of_interest=men<br>pca_x=%{x}<br>pca_y=%{y}<br>pca_z=%{z}<br>word=%{text}<extra></extra>",
                  "legendgroup": "men",
                  "marker": {
                    "color": "#EF553B",
                    "opacity": 0.7,
                    "symbol": "circle"
                  },
                  "mode": "markers+text",
                  "name": "men",
                  "scene": "scene",
                  "showlegend": true,
                  "text": [
                    "women",
                    "man",
                    "soldiers",
                    "who",
                    "boys",
                    "young",
                    "male",
                    "they",
                    "girls",
                    "four"
                  ],
                  "type": "scatter3d",
                  "x": [
                    -1.1402159929275513,
                    1.1037368774414062,
                    2.1645891666412354,
                    1.6334537267684937,
                    -2.0977041721343994,
                    -0.8732931017875671,
                    -2.215256690979004,
                    2.121520519256592,
                    -2.8585572242736816,
                    1.9373198747634888
                  ],
                  "y": [
                    1.9455044269561768,
                    1.9343671798706055,
                    0.0963096097111702,
                    0.974336564540863,
                    -1.0340101718902588,
                    0.5495293140411377,
                    4.265043258666992,
                    -0.4127332866191864,
                    -0.8127249479293823,
                    0.5097374320030212
                  ],
                  "z": [
                    0.9271833896636963,
                    0.30231553316116333,
                    -0.29526787996292114,
                    -0.29537442326545715,
                    2.81441068649292,
                    -0.19081617891788483,
                    -1.211766004562378,
                    0.5031330585479736,
                    2.7399487495422363,
                    0.7098006010055542
                  ]
                },
                {
                  "hovertemplate": "word_of_interest=women<br>pca_x=%{x}<br>pca_y=%{y}<br>pca_z=%{z}<br>word=%{text}<extra></extra>",
                  "legendgroup": "women",
                  "marker": {
                    "color": "#00cc96",
                    "opacity": 0.7,
                    "symbol": "circle"
                  },
                  "mode": "markers+text",
                  "name": "women",
                  "scene": "scene",
                  "showlegend": true,
                  "text": [
                    "men",
                    "girls",
                    "female",
                    "woman",
                    "male",
                    "mothers",
                    "athletes",
                    "she",
                    "young",
                    "children"
                  ],
                  "type": "scatter3d",
                  "x": [
                    0.4178227186203003,
                    -2.8585572242736816,
                    -1.8685671091079712,
                    -0.8766465187072754,
                    -2.215256690979004,
                    -1.9878787994384766,
                    0.2324424684047699,
                    0.654824435710907,
                    -0.8732932806015015,
                    -1.1745736598968506
                  ],
                  "y": [
                    2.1755471229553223,
                    -0.8127251267433167,
                    4.32965087890625,
                    2.345924139022827,
                    4.265044689178467,
                    -1.8396559953689575,
                    1.1207093000411987,
                    0.36674556136131287,
                    0.5495296120643616,
                    -2.2933108806610107
                  ],
                  "z": [
                    1.6448482275009155,
                    2.7399489879608154,
                    -1.3125395774841309,
                    -0.776127815246582,
                    -1.211766242980957,
                    -2.491544485092163,
                    1.3218790292739868,
                    0.2890518307685852,
                    -0.19081617891788483,
                    -0.718891978263855
                  ]
                },
                {
                  "hovertemplate": "word_of_interest=children<br>pca_x=%{x}<br>pca_y=%{y}<br>pca_z=%{z}<br>word=%{text}<extra></extra>",
                  "legendgroup": "children",
                  "marker": {
                    "color": "#ab63fa",
                    "opacity": 0.7,
                    "symbol": "circle"
                  },
                  "mode": "markers+text",
                  "name": "children",
                  "scene": "scene",
                  "showlegend": true,
                  "text": [
                    "parents",
                    "child",
                    "kids",
                    "daughters",
                    "girls",
                    "youngsters",
                    "mothers",
                    "adults",
                    "teenagers",
                    "babies"
                  ],
                  "type": "scatter3d",
                  "x": [
                    -0.9414665699005127,
                    -1.3911010026931763,
                    -1.2879178524017334,
                    -1.6871802806854248,
                    -2.8585572242736816,
                    -0.9855527877807617,
                    -1.9878789186477661,
                    -1.1326664686203003,
                    -1.3447072505950928,
                    -1.6913951635360718
                  ],
                  "y": [
                    -2.0150132179260254,
                    -1.0328837633132935,
                    -2.6850295066833496,
                    -1.3558024168014526,
                    -0.8127251267433167,
                    -1.6083332300186157,
                    -1.8396559953689575,
                    -0.821251630783081,
                    -1.0370949506759644,
                    -2.0152652263641357
                  ],
                  "z": [
                    -0.9859234094619751,
                    -1.2513859272003174,
                    0.6987882256507874,
                    -1.0976133346557617,
                    2.7399489879608154,
                    0.21382789313793182,
                    -2.4915456771850586,
                    -1.3128995895385742,
                    0.01136842556297779,
                    -2.107067108154297
                  ]
                }
              ],
              "layout": {
                "legend": {
                  "title": {
                    "text": "word_of_interest"
                  },
                  "tracegroupgap": 0
                },
                "scene": {
                  "domain": {
                    "x": [
                      0,
                      1
                    ],
                    "y": [
                      0,
                      1
                    ]
                  },
                  "xaxis": {
                    "title": {
                      "text": "pca_x"
                    }
                  },
                  "yaxis": {
                    "title": {
                      "text": "pca_y"
                    }
                  },
                  "zaxis": {
                    "title": {
                      "text": "pca_z"
                    }
                  }
                },
                "template": {
                  "data": {
                    "bar": [
                      {
                        "error_x": {
                          "color": "#2a3f5f"
                        },
                        "error_y": {
                          "color": "#2a3f5f"
                        },
                        "marker": {
                          "line": {
                            "color": "#E5ECF6",
                            "width": 0.5
                          },
                          "pattern": {
                            "fillmode": "overlay",
                            "size": 10,
                            "solidity": 0.2
                          }
                        },
                        "type": "bar"
                      }
                    ],
                    "barpolar": [
                      {
                        "marker": {
                          "line": {
                            "color": "#E5ECF6",
                            "width": 0.5
                          },
                          "pattern": {
                            "fillmode": "overlay",
                            "size": 10,
                            "solidity": 0.2
                          }
                        },
                        "type": "barpolar"
                      }
                    ],
                    "carpet": [
                      {
                        "aaxis": {
                          "endlinecolor": "#2a3f5f",
                          "gridcolor": "white",
                          "linecolor": "white",
                          "minorgridcolor": "white",
                          "startlinecolor": "#2a3f5f"
                        },
                        "baxis": {
                          "endlinecolor": "#2a3f5f",
                          "gridcolor": "white",
                          "linecolor": "white",
                          "minorgridcolor": "white",
                          "startlinecolor": "#2a3f5f"
                        },
                        "type": "carpet"
                      }
                    ],
                    "choropleth": [
                      {
                        "colorbar": {
                          "outlinewidth": 0,
                          "ticks": ""
                        },
                        "type": "choropleth"
                      }
                    ],
                    "contour": [
                      {
                        "colorbar": {
                          "outlinewidth": 0,
                          "ticks": ""
                        },
                        "colorscale": [
                          [
                            0,
                            "#0d0887"
                          ],
                          [
                            0.1111111111111111,
                            "#46039f"
                          ],
                          [
                            0.2222222222222222,
                            "#7201a8"
                          ],
                          [
                            0.3333333333333333,
                            "#9c179e"
                          ],
                          [
                            0.4444444444444444,
                            "#bd3786"
                          ],
                          [
                            0.5555555555555556,
                            "#d8576b"
                          ],
                          [
                            0.6666666666666666,
                            "#ed7953"
                          ],
                          [
                            0.7777777777777778,
                            "#fb9f3a"
                          ],
                          [
                            0.8888888888888888,
                            "#fdca26"
                          ],
                          [
                            1,
                            "#f0f921"
                          ]
                        ],
                        "type": "contour"
                      }
                    ],
                    "contourcarpet": [
                      {
                        "colorbar": {
                          "outlinewidth": 0,
                          "ticks": ""
                        },
                        "type": "contourcarpet"
                      }
                    ],
                    "heatmap": [
                      {
                        "colorbar": {
                          "outlinewidth": 0,
                          "ticks": ""
                        },
                        "colorscale": [
                          [
                            0,
                            "#0d0887"
                          ],
                          [
                            0.1111111111111111,
                            "#46039f"
                          ],
                          [
                            0.2222222222222222,
                            "#7201a8"
                          ],
                          [
                            0.3333333333333333,
                            "#9c179e"
                          ],
                          [
                            0.4444444444444444,
                            "#bd3786"
                          ],
                          [
                            0.5555555555555556,
                            "#d8576b"
                          ],
                          [
                            0.6666666666666666,
                            "#ed7953"
                          ],
                          [
                            0.7777777777777778,
                            "#fb9f3a"
                          ],
                          [
                            0.8888888888888888,
                            "#fdca26"
                          ],
                          [
                            1,
                            "#f0f921"
                          ]
                        ],
                        "type": "heatmap"
                      }
                    ],
                    "heatmapgl": [
                      {
                        "colorbar": {
                          "outlinewidth": 0,
                          "ticks": ""
                        },
                        "colorscale": [
                          [
                            0,
                            "#0d0887"
                          ],
                          [
                            0.1111111111111111,
                            "#46039f"
                          ],
                          [
                            0.2222222222222222,
                            "#7201a8"
                          ],
                          [
                            0.3333333333333333,
                            "#9c179e"
                          ],
                          [
                            0.4444444444444444,
                            "#bd3786"
                          ],
                          [
                            0.5555555555555556,
                            "#d8576b"
                          ],
                          [
                            0.6666666666666666,
                            "#ed7953"
                          ],
                          [
                            0.7777777777777778,
                            "#fb9f3a"
                          ],
                          [
                            0.8888888888888888,
                            "#fdca26"
                          ],
                          [
                            1,
                            "#f0f921"
                          ]
                        ],
                        "type": "heatmapgl"
                      }
                    ],
                    "histogram": [
                      {
                        "marker": {
                          "pattern": {
                            "fillmode": "overlay",
                            "size": 10,
                            "solidity": 0.2
                          }
                        },
                        "type": "histogram"
                      }
                    ],
                    "histogram2d": [
                      {
                        "colorbar": {
                          "outlinewidth": 0,
                          "ticks": ""
                        },
                        "colorscale": [
                          [
                            0,
                            "#0d0887"
                          ],
                          [
                            0.1111111111111111,
                            "#46039f"
                          ],
                          [
                            0.2222222222222222,
                            "#7201a8"
                          ],
                          [
                            0.3333333333333333,
                            "#9c179e"
                          ],
                          [
                            0.4444444444444444,
                            "#bd3786"
                          ],
                          [
                            0.5555555555555556,
                            "#d8576b"
                          ],
                          [
                            0.6666666666666666,
                            "#ed7953"
                          ],
                          [
                            0.7777777777777778,
                            "#fb9f3a"
                          ],
                          [
                            0.8888888888888888,
                            "#fdca26"
                          ],
                          [
                            1,
                            "#f0f921"
                          ]
                        ],
                        "type": "histogram2d"
                      }
                    ],
                    "histogram2dcontour": [
                      {
                        "colorbar": {
                          "outlinewidth": 0,
                          "ticks": ""
                        },
                        "colorscale": [
                          [
                            0,
                            "#0d0887"
                          ],
                          [
                            0.1111111111111111,
                            "#46039f"
                          ],
                          [
                            0.2222222222222222,
                            "#7201a8"
                          ],
                          [
                            0.3333333333333333,
                            "#9c179e"
                          ],
                          [
                            0.4444444444444444,
                            "#bd3786"
                          ],
                          [
                            0.5555555555555556,
                            "#d8576b"
                          ],
                          [
                            0.6666666666666666,
                            "#ed7953"
                          ],
                          [
                            0.7777777777777778,
                            "#fb9f3a"
                          ],
                          [
                            0.8888888888888888,
                            "#fdca26"
                          ],
                          [
                            1,
                            "#f0f921"
                          ]
                        ],
                        "type": "histogram2dcontour"
                      }
                    ],
                    "mesh3d": [
                      {
                        "colorbar": {
                          "outlinewidth": 0,
                          "ticks": ""
                        },
                        "type": "mesh3d"
                      }
                    ],
                    "parcoords": [
                      {
                        "line": {
                          "colorbar": {
                            "outlinewidth": 0,
                            "ticks": ""
                          }
                        },
                        "type": "parcoords"
                      }
                    ],
                    "pie": [
                      {
                        "automargin": true,
                        "type": "pie"
                      }
                    ],
                    "scatter": [
                      {
                        "fillpattern": {
                          "fillmode": "overlay",
                          "size": 10,
                          "solidity": 0.2
                        },
                        "type": "scatter"
                      }
                    ],
                    "scatter3d": [
                      {
                        "line": {
                          "colorbar": {
                            "outlinewidth": 0,
                            "ticks": ""
                          }
                        },
                        "marker": {
                          "colorbar": {
                            "outlinewidth": 0,
                            "ticks": ""
                          }
                        },
                        "type": "scatter3d"
                      }
                    ],
                    "scattercarpet": [
                      {
                        "marker": {
                          "colorbar": {
                            "outlinewidth": 0,
                            "ticks": ""
                          }
                        },
                        "type": "scattercarpet"
                      }
                    ],
                    "scattergeo": [
                      {
                        "marker": {
                          "colorbar": {
                            "outlinewidth": 0,
                            "ticks": ""
                          }
                        },
                        "type": "scattergeo"
                      }
                    ],
                    "scattergl": [
                      {
                        "marker": {
                          "colorbar": {
                            "outlinewidth": 0,
                            "ticks": ""
                          }
                        },
                        "type": "scattergl"
                      }
                    ],
                    "scattermapbox": [
                      {
                        "marker": {
                          "colorbar": {
                            "outlinewidth": 0,
                            "ticks": ""
                          }
                        },
                        "type": "scattermapbox"
                      }
                    ],
                    "scatterpolar": [
                      {
                        "marker": {
                          "colorbar": {
                            "outlinewidth": 0,
                            "ticks": ""
                          }
                        },
                        "type": "scatterpolar"
                      }
                    ],
                    "scatterpolargl": [
                      {
                        "marker": {
                          "colorbar": {
                            "outlinewidth": 0,
                            "ticks": ""
                          }
                        },
                        "type": "scatterpolargl"
                      }
                    ],
                    "scatterternary": [
                      {
                        "marker": {
                          "colorbar": {
                            "outlinewidth": 0,
                            "ticks": ""
                          }
                        },
                        "type": "scatterternary"
                      }
                    ],
                    "surface": [
                      {
                        "colorbar": {
                          "outlinewidth": 0,
                          "ticks": ""
                        },
                        "colorscale": [
                          [
                            0,
                            "#0d0887"
                          ],
                          [
                            0.1111111111111111,
                            "#46039f"
                          ],
                          [
                            0.2222222222222222,
                            "#7201a8"
                          ],
                          [
                            0.3333333333333333,
                            "#9c179e"
                          ],
                          [
                            0.4444444444444444,
                            "#bd3786"
                          ],
                          [
                            0.5555555555555556,
                            "#d8576b"
                          ],
                          [
                            0.6666666666666666,
                            "#ed7953"
                          ],
                          [
                            0.7777777777777778,
                            "#fb9f3a"
                          ],
                          [
                            0.8888888888888888,
                            "#fdca26"
                          ],
                          [
                            1,
                            "#f0f921"
                          ]
                        ],
                        "type": "surface"
                      }
                    ],
                    "table": [
                      {
                        "cells": {
                          "fill": {
                            "color": "#EBF0F8"
                          },
                          "line": {
                            "color": "white"
                          }
                        },
                        "header": {
                          "fill": {
                            "color": "#C8D4E3"
                          },
                          "line": {
                            "color": "white"
                          }
                        },
                        "type": "table"
                      }
                    ]
                  },
                  "layout": {
                    "annotationdefaults": {
                      "arrowcolor": "#2a3f5f",
                      "arrowhead": 0,
                      "arrowwidth": 1
                    },
                    "autotypenumbers": "strict",
                    "coloraxis": {
                      "colorbar": {
                        "outlinewidth": 0,
                        "ticks": ""
                      }
                    },
                    "colorscale": {
                      "diverging": [
                        [
                          0,
                          "#8e0152"
                        ],
                        [
                          0.1,
                          "#c51b7d"
                        ],
                        [
                          0.2,
                          "#de77ae"
                        ],
                        [
                          0.3,
                          "#f1b6da"
                        ],
                        [
                          0.4,
                          "#fde0ef"
                        ],
                        [
                          0.5,
                          "#f7f7f7"
                        ],
                        [
                          0.6,
                          "#e6f5d0"
                        ],
                        [
                          0.7,
                          "#b8e186"
                        ],
                        [
                          0.8,
                          "#7fbc41"
                        ],
                        [
                          0.9,
                          "#4d9221"
                        ],
                        [
                          1,
                          "#276419"
                        ]
                      ],
                      "sequential": [
                        [
                          0,
                          "#0d0887"
                        ],
                        [
                          0.1111111111111111,
                          "#46039f"
                        ],
                        [
                          0.2222222222222222,
                          "#7201a8"
                        ],
                        [
                          0.3333333333333333,
                          "#9c179e"
                        ],
                        [
                          0.4444444444444444,
                          "#bd3786"
                        ],
                        [
                          0.5555555555555556,
                          "#d8576b"
                        ],
                        [
                          0.6666666666666666,
                          "#ed7953"
                        ],
                        [
                          0.7777777777777778,
                          "#fb9f3a"
                        ],
                        [
                          0.8888888888888888,
                          "#fdca26"
                        ],
                        [
                          1,
                          "#f0f921"
                        ]
                      ],
                      "sequentialminus": [
                        [
                          0,
                          "#0d0887"
                        ],
                        [
                          0.1111111111111111,
                          "#46039f"
                        ],
                        [
                          0.2222222222222222,
                          "#7201a8"
                        ],
                        [
                          0.3333333333333333,
                          "#9c179e"
                        ],
                        [
                          0.4444444444444444,
                          "#bd3786"
                        ],
                        [
                          0.5555555555555556,
                          "#d8576b"
                        ],
                        [
                          0.6666666666666666,
                          "#ed7953"
                        ],
                        [
                          0.7777777777777778,
                          "#fb9f3a"
                        ],
                        [
                          0.8888888888888888,
                          "#fdca26"
                        ],
                        [
                          1,
                          "#f0f921"
                        ]
                      ]
                    },
                    "colorway": [
                      "#636efa",
                      "#EF553B",
                      "#00cc96",
                      "#ab63fa",
                      "#FFA15A",
                      "#19d3f3",
                      "#FF6692",
                      "#B6E880",
                      "#FF97FF",
                      "#FECB52"
                    ],
                    "font": {
                      "color": "#2a3f5f"
                    },
                    "geo": {
                      "bgcolor": "white",
                      "lakecolor": "white",
                      "landcolor": "#E5ECF6",
                      "showlakes": true,
                      "showland": true,
                      "subunitcolor": "white"
                    },
                    "hoverlabel": {
                      "align": "left"
                    },
                    "hovermode": "closest",
                    "mapbox": {
                      "style": "light"
                    },
                    "paper_bgcolor": "white",
                    "plot_bgcolor": "#E5ECF6",
                    "polar": {
                      "angularaxis": {
                        "gridcolor": "white",
                        "linecolor": "white",
                        "ticks": ""
                      },
                      "bgcolor": "#E5ECF6",
                      "radialaxis": {
                        "gridcolor": "white",
                        "linecolor": "white",
                        "ticks": ""
                      }
                    },
                    "scene": {
                      "xaxis": {
                        "backgroundcolor": "#E5ECF6",
                        "gridcolor": "white",
                        "gridwidth": 2,
                        "linecolor": "white",
                        "showbackground": true,
                        "ticks": "",
                        "zerolinecolor": "white"
                      },
                      "yaxis": {
                        "backgroundcolor": "#E5ECF6",
                        "gridcolor": "white",
                        "gridwidth": 2,
                        "linecolor": "white",
                        "showbackground": true,
                        "ticks": "",
                        "zerolinecolor": "white"
                      },
                      "zaxis": {
                        "backgroundcolor": "#E5ECF6",
                        "gridcolor": "white",
                        "gridwidth": 2,
                        "linecolor": "white",
                        "showbackground": true,
                        "ticks": "",
                        "zerolinecolor": "white"
                      }
                    },
                    "shapedefaults": {
                      "line": {
                        "color": "#2a3f5f"
                      }
                    },
                    "ternary": {
                      "aaxis": {
                        "gridcolor": "white",
                        "linecolor": "white",
                        "ticks": ""
                      },
                      "baxis": {
                        "gridcolor": "white",
                        "linecolor": "white",
                        "ticks": ""
                      },
                      "bgcolor": "#E5ECF6",
                      "caxis": {
                        "gridcolor": "white",
                        "linecolor": "white",
                        "ticks": ""
                      }
                    },
                    "title": {
                      "x": 0.05
                    },
                    "xaxis": {
                      "automargin": true,
                      "gridcolor": "white",
                      "linecolor": "white",
                      "ticks": "",
                      "title": {
                        "standoff": 15
                      },
                      "zerolinecolor": "white",
                      "zerolinewidth": 2
                    },
                    "yaxis": {
                      "automargin": true,
                      "gridcolor": "white",
                      "linecolor": "white",
                      "ticks": "",
                      "title": {
                        "standoff": 15
                      },
                      "zerolinecolor": "white",
                      "zerolinewidth": 2
                    }
                  }
                },
                "title": {
                  "text": "3d-PCA representation of word embeddings"
                }
              }
            }
          },
          "metadata": {},
          "output_type": "display_data"
        }
      ],
      "source": [
        "from sklearn.decomposition import PCA\n",
        "# pandas is a library for data analysis and manipulation, use particularly for tabular data (like in an excel)\n",
        "import pandas as pd\n",
        "import numpy as np\n",
        "import plotly.express as px\n",
        "\n",
        "words_of_interest = [\"people\", \"men\", \"women\", \"children\"]\n",
        "# we make a single array with the top10 most similar words to those in words_of_interest\n",
        "clusters=[]\n",
        "for word in words_of_interest:\n",
        "  clusters.extend([k for k,v in embeddings.most_similar(word)]) #embeddings.most_similar(word) outputs (word, similarity_score)\n",
        "#k -> the similar word      v -> the cosine similarity between word and k\n",
        "# we perform PCA on the list of top10 words\n",
        "pca = PCA(n_components=3) #Perform 3d-PCA\n",
        "embeddings_pca = pca.fit_transform(embeddings[clusters])\n",
        "\n",
        "# we save the results of PCA in a dataframe (tabular format)\n",
        "pca_df = pd.DataFrame(embeddings_pca, columns=[\"pca_x\", \"pca_y\", \"pca_z\"])\n",
        "# we add a column 'word' with the corresponding top10 words for each coordinates\n",
        "pca_df[\"word\"] = clusters\n",
        "# we add a column 'word_of_interest' with the most similar word in words_of_interest\n",
        "labels = np.array(words_of_interest).repeat(10)\n",
        "pca_df[\"word_of_interest\"] = labels\n",
        "\n",
        "# we visualize the first 10 rows of the dataframe\n",
        "print(pca_df.head(10))\n",
        "# we create a plot\n",
        "px.scatter_3d(pca_df, x='pca_x', y='pca_y', z='pca_z', color=\"word_of_interest\", text=\"word\", opacity=0.7, title=\"3d-PCA representation of word embeddings\")"
      ]
    },
    {
      "cell_type": "markdown",
      "id": "7c76ab53-70dc-4324-97ca-358b4d962f5e",
      "metadata": {
        "id": "7c76ab53-70dc-4324-97ca-358b4d962f5e",
        "tags": []
      },
      "source": [
        "## Word embedding evaluation\n",
        "\n",
        "There are two main types of evaluation for word embeddings:\n",
        "   \n",
        "   * **intrisic evaluation**: where we evaluate word embeddings on the embedding space\n",
        "        * word similarity benchmarks\n",
        "        * word analogy benchmarks\n",
        "   * **extrinsic evaluation**: where we evaluate word embeddings on a downstream task, like text classification.\n",
        "\n",
        "\n",
        "We will see how intrisic evaluation works."
      ]
    },
    {
      "cell_type": "markdown",
      "id": "bc5e5ef0-9a9b-4952-9c74-26130634ae7b",
      "metadata": {
        "id": "bc5e5ef0-9a9b-4952-9c74-26130634ae7b",
        "tags": []
      },
      "source": [
        "### Word Similarity benchmarks\n",
        "\n",
        "Word similarity benchmarks, are datasets that contain pairs of words and a similarity score between each, given by human heuristic judgments. The higher the correlation between the assigned human similarity score and the actual similarity between the obtained embeddings, the better the embeddings are.\n",
        "\n",
        "\n",
        "One of these datasets is [MEN](https://staff.fnwi.uva.nl/e.bruni/MEN) that contains a total of 3000 scored pairs.\n"
      ]
    },
    {
      "cell_type": "code",
      "execution_count": 107,
      "id": "a006fbad-3740-40ea-b2e9-9a85c92ef32e",
      "metadata": {
        "colab": {
          "base_uri": "https://localhost:8080/",
          "height": 672
        },
        "id": "a006fbad-3740-40ea-b2e9-9a85c92ef32e",
        "outputId": "8eae838f-86d6-4d35-9846-c62d928b569f",
        "tags": []
      },
      "outputs": [
        {
          "data": {
            "text/html": [
              "<div>\n",
              "<style scoped>\n",
              "    .dataframe tbody tr th:only-of-type {\n",
              "        vertical-align: middle;\n",
              "    }\n",
              "\n",
              "    .dataframe tbody tr th {\n",
              "        vertical-align: top;\n",
              "    }\n",
              "\n",
              "    .dataframe thead th {\n",
              "        text-align: right;\n",
              "    }\n",
              "</style>\n",
              "<table border=\"1\" class=\"dataframe\">\n",
              "  <thead>\n",
              "    <tr style=\"text-align: right;\">\n",
              "      <th></th>\n",
              "      <th>0</th>\n",
              "      <th>1</th>\n",
              "      <th>2</th>\n",
              "      <th>3</th>\n",
              "    </tr>\n",
              "  </thead>\n",
              "  <tbody>\n",
              "    <tr>\n",
              "      <th>2554</th>\n",
              "      <td>cute</td>\n",
              "      <td>music</td>\n",
              "      <td>2</td>\n",
              "      <td>NaN</td>\n",
              "    </tr>\n",
              "    <tr>\n",
              "      <th>1385</th>\n",
              "      <td>sky</td>\n",
              "      <td>sunlight</td>\n",
              "      <td>6</td>\n",
              "      <td>NaN</td>\n",
              "    </tr>\n",
              "    <tr>\n",
              "      <th>854</th>\n",
              "      <td>blue</td>\n",
              "      <td>colour</td>\n",
              "      <td>6</td>\n",
              "      <td>NaN</td>\n",
              "    </tr>\n",
              "    <tr>\n",
              "      <th>898</th>\n",
              "      <td>beef</td>\n",
              "      <td>downtown</td>\n",
              "      <td>1</td>\n",
              "      <td>NaN</td>\n",
              "    </tr>\n",
              "    <tr>\n",
              "      <th>2113</th>\n",
              "      <td>posted</td>\n",
              "      <td>white</td>\n",
              "      <td>1</td>\n",
              "      <td>NaN</td>\n",
              "    </tr>\n",
              "    <tr>\n",
              "      <th>347</th>\n",
              "      <td>decoration</td>\n",
              "      <td>lighting</td>\n",
              "      <td>4</td>\n",
              "      <td>NaN</td>\n",
              "    </tr>\n",
              "    <tr>\n",
              "      <th>1456</th>\n",
              "      <td>mallard</td>\n",
              "      <td>stork</td>\n",
              "      <td>1</td>\n",
              "      <td>NaN</td>\n",
              "    </tr>\n",
              "    <tr>\n",
              "      <th>51</th>\n",
              "      <td>monkeys</td>\n",
              "      <td>restaurant</td>\n",
              "      <td>1</td>\n",
              "      <td>NaN</td>\n",
              "    </tr>\n",
              "    <tr>\n",
              "      <th>1424</th>\n",
              "      <td>berry</td>\n",
              "      <td>raspberry</td>\n",
              "      <td>7</td>\n",
              "      <td>NaN</td>\n",
              "    </tr>\n",
              "    <tr>\n",
              "      <th>1736</th>\n",
              "      <td>lunch</td>\n",
              "      <td>restaurant</td>\n",
              "      <td>5</td>\n",
              "      <td>NaN</td>\n",
              "    </tr>\n",
              "  </tbody>\n",
              "</table>\n",
              "</div>"
            ],
            "text/plain": [
              "               0           1  2   3\n",
              "2554        cute       music  2 NaN\n",
              "1385         sky    sunlight  6 NaN\n",
              "854         blue      colour  6 NaN\n",
              "898         beef    downtown  1 NaN\n",
              "2113      posted       white  1 NaN\n",
              "347   decoration    lighting  4 NaN\n",
              "1456     mallard       stork  1 NaN\n",
              "51       monkeys  restaurant  1 NaN\n",
              "1424       berry   raspberry  7 NaN\n",
              "1736       lunch  restaurant  5 NaN"
            ]
          },
          "execution_count": 107,
          "metadata": {},
          "output_type": "execute_result"
        }
      ],
      "source": [
        "import pandas as pd\n",
        "# we read MEN as a dataframe\n",
        "ws_df = pd.read_csv(\n",
        "    \"/Users/goudarzimandanagmail.com/Desktop/University/NLP/MEN/agreement/elias-men-ratings.csv\",\n",
        "    sep=\"\\t\",\n",
        "    header=None,\n",
        "    on_bad_lines=\"skip\",\n",
        "    engine=\"python\"\n",
        ")\n",
        "# let's see a portion of the dataset\n",
        "ws_df.sample(10)"
      ]
    },
    {
      "cell_type": "markdown",
      "id": "8a2d8328-745e-4afe-b192-3b71846416ca",
      "metadata": {
        "id": "8a2d8328-745e-4afe-b192-3b71846416ca",
        "tags": []
      },
      "source": [
        "To evaluate word embeddings on a word similarity benchmark, we need to do these steps:\n",
        "\n",
        "1. For each pair of words $(w_{i_{1}}, w_{i_{2}})$ in the benchmark, we compute the cosine similarity between its word embeddings $\\cos(\\mathbf{e}_{w_{i_{1}}}, \\mathbf{e}_{w_{i_{2}}})$\n",
        "2. We compute a correlation score (like [Pearson's $r$](https://en.wikipedia.org/wiki/Pearson_correlation_coefficient) or [Spearman's $\\rho$](https://en.wikipedia.org/wiki/Spearman%27s_rank_correlation_coefficient)) between the human given scores and the cosine similarities between the embeddings\n",
        "    - the higher the score, the better!\n",
        "\n",
        "Gensim has a function that does all of that: [```evaluate_word_pairs```](https://radimrehurek.com/gensim/models/keyedvectors.html#gensim.models.keyedvectors.KeyedVectors.evaluate_word_pairs), it computes the correlation between the model with human similarity judgments in a dataset."
      ]
    },
    {
      "cell_type": "code",
      "execution_count": 109,
      "id": "c827290d-3880-4919-b3f7-a87734155f92",
      "metadata": {
        "colab": {
          "base_uri": "https://localhost:8080/"
        },
        "id": "c827290d-3880-4919-b3f7-a87734155f92",
        "outputId": "6c17717f-91eb-4d53-a7fa-3772c853df3e",
        "tags": []
      },
      "outputs": [
        {
          "data": {
            "text/plain": [
              "(PearsonRResult(statistic=0.6962496447812336, pvalue=0.0),\n",
              " SignificanceResult(statistic=0.7014936742425295, pvalue=0.0),\n",
              " 0.0)"
            ]
          },
          "execution_count": 109,
          "metadata": {},
          "output_type": "execute_result"
        }
      ],
      "source": [
        "embeddings.evaluate_word_pairs(\"/Users/goudarzimandanagmail.com/Desktop/University/NLP/MEN/agreement/elias-men-ratings.csv\", delimiter=\"\\t\")"
      ]
    },
    {
      "cell_type": "markdown",
      "id": "0cdce175-12e1-4eaf-acac-1dfadc83ac1c",
      "metadata": {
        "id": "0cdce175-12e1-4eaf-acac-1dfadc83ac1c",
        "tags": []
      },
      "source": [
        "### Word Analogy benchmarks\n",
        "\n",
        "Word analogy benchmarks are datasets that contain groups of four words that are related in some way.  The evaluation of the embeddings is based on the idea that this relations can be predicted by arithmetic operations in the vectorial space.\n",
        "\n",
        "Given $\\mathbf{e}_x$ to be the embedding of word $x$, examples of the relations that can be found in these datasets and how they are verified are:\n",
        "\n",
        "*    man : king = woman : queen -> $\\mathbf{e}_{king} - \\mathbf{e}_{man} + \\mathbf{e}_{woman} = \\mathbf{e}_x$ where $x$ is checked to be $queen$.\n",
        "*    miss : woman = mr : man -> $\\mathbf{e}_{woman} - \\mathbf{e}_{miss} + \\mathbf{e}_{mr} = \\mathbf{e}_x$ where $x=man$\n",
        "*    athens : greece = madrid : spain -> $\\mathbf{e}_{greece} - \\mathbf{e}_{athens} + \\mathbf{e}_{madrid} = \\mathbf{e}_x$ where $x=spain$\n",
        "\n",
        "\n",
        "To verify these relations we can use Gensim `most_similar` function, that we already saw. Word embedding that we would sum together are those that **contribute positively**, the one that we subtract have a **negative contribution**."
      ]
    },
    {
      "cell_type": "code",
      "execution_count": null,
      "id": "18d28a9c-7e6d-460d-82ea-0e3c9d3df32b",
      "metadata": {
        "id": "18d28a9c-7e6d-460d-82ea-0e3c9d3df32b",
        "tags": []
      },
      "outputs": [],
      "source": [
        "print(embeddings.most_similar(positive=[\"king\", \"woman\"], negative=[\"man\"]))\n",
        "print(embeddings.most_similar(positive=[\"woman\", \"mr\"], negative=[\"miss\"]))\n",
        "print(embeddings.most_similar(positive=[\"greece\", \"madrid\"], negative=[\"athens\"]))"
      ]
    },
    {
      "cell_type": "markdown",
      "id": "keJLlv91D6uQ",
      "metadata": {
        "id": "keJLlv91D6uQ"
      },
      "source": [
        "We will use a subset of the [SemEval 2017](https://alt.qcri.org/semeval2017/task2/) benchmark that contains 4998 relations. The original dataset contains 10014 entries for the English language."
      ]
    },
    {
      "cell_type": "code",
      "execution_count": 113,
      "id": "27d1d8b9-e943-4528-bf3d-ccf58da4867c",
      "metadata": {
        "id": "27d1d8b9-e943-4528-bf3d-ccf58da4867c",
        "tags": []
      },
      "outputs": [
        {
          "name": "stderr",
          "output_type": "stream",
          "text": [
            "No config specified, defaulting to: semeval2017/extraction\n",
            "Found cached dataset semeval2017 (/Users/goudarzimandanagmail.com/.cache/huggingface/datasets/midas___semeval2017/extraction/0.0.1/0871215fa4f7da4155260640dfcb03a62ce17eb9f459377232459bfc1b17ab94)\n"
          ]
        },
        {
          "data": {
            "application/vnd.jupyter.widget-view+json": {
              "model_id": "bf8581b3c2164efebd978d7e99d32a2a",
              "version_major": 2,
              "version_minor": 0
            },
            "text/plain": [
              "  0%|          | 0/3 [00:00<?, ?it/s]"
            ]
          },
          "metadata": {},
          "output_type": "display_data"
        },
        {
          "name": "stdout",
          "output_type": "stream",
          "text": [
            "{'id': 'S0370269304007208', 'document': ['It', 'is', 'well', 'known', 'that', 'one', 'of', 'the', 'long', 'standing', 'problems', 'in', 'physics', 'is', 'understanding', 'the', 'confinement', 'physics', 'from', 'first', 'principles.', 'Hence', 'the', 'challenge', 'is', 'to', 'develop', 'analytical', 'approaches', 'which', 'provide', 'valuable', 'insight', 'and', 'theoretical', 'guidance.', 'According', 'to', 'this', 'viewpoint,', 'an', 'effective', 'theory', 'in', 'which', 'confining', 'potentials', 'are', 'obtained', 'as', 'a', 'consequence', 'of', 'spontaneous', 'symmetry', 'breaking', 'of', 'scale', 'invariance', 'has', 'been', 'developed', '[1].', 'In', 'particular,', 'it', 'was', 'shown', 'that', 'a', 'such', 'theory', 'relies', 'on', 'a', 'scale-invariant', 'Lagrangian', 'of', 'the', 'type', '[2]', '(1)L=14w2−12w−FμνaFaμν,', 'where', 'Fμνa=∂μAνa−∂νAμa+gfabcAμbAνc,', 'and', 'w', 'is', 'not', 'a', 'fundamental', 'field', 'but', 'rather', 'is', 'a', 'function', 'of', '4-index', 'field', 'strength,', 'that', 'is,', '(2)w=εμναβ∂μAναβ.', 'The', 'Aναβ', 'equation', 'of', 'motion', 'leads', 'to', '(3)εμναβ∂βw−−FγδaFaγδ=0,', 'which', 'is', 'then', 'integrated', 'to', '(4)w=−FμνaFaμν+M.', 'It', 'is', 'easy', 'to', 'verify', 'that', 'the', 'Aaμ', 'equation', 'of', 'motion', 'leads', 'us', 'to', '(5)∇μFaμν+MFaμν−FαβbFbαβ=0.', 'It', 'is', 'worth', 'stressing', 'at', 'this', 'stage', 'that', 'the', 'above', 'equation', 'can', 'be', 'obtained', 'from', 'the', 'effective', 'Lagrangian', '(6)Leff=−14FμνaFaμν+M2−FμνaFaμν.', 'Spherically', 'symmetric', 'solutions', 'of', 'Eq.', '(5)', 'display,', 'even', 'in', 'the', 'Abelian', 'case,', 'a', 'Coulomb', 'piece', 'and', 'a', 'confining', 'part.', 'Also,', 'the', 'quantum', 'theory', 'calculation', 'of', 'the', 'static', 'energy', 'between', 'two', 'charges', 'displays', 'the', 'same', 'behavior', '[1].', 'It', 'is', 'well', 'known', 'that', 'the', 'square', 'root', 'part', 'describes', 'string', 'like', 'solutions', '[3,4].'], 'doc_bio_tags': ['O', 'O', 'O', 'O', 'O', 'O', 'O', 'O', 'O', 'O', 'O', 'O', 'O', 'O', 'B', 'I', 'I', 'I', 'I', 'I', 'I', 'O', 'O', 'O', 'O', 'O', 'B', 'I', 'I', 'O', 'O', 'O', 'O', 'O', 'O', 'O', 'O', 'O', 'O', 'O', 'O', 'O', 'O', 'O', 'O', 'O', 'O', 'O', 'O', 'O', 'O', 'O', 'O', 'B', 'I', 'I', 'I', 'I', 'I', 'O', 'O', 'O', 'O', 'O', 'O', 'O', 'O', 'O', 'O', 'O', 'O', 'O', 'O', 'O', 'O', 'O', 'O', 'O', 'O', 'O', 'O', 'O', 'O', 'O', 'O', 'O', 'O', 'O', 'O', 'O', 'O', 'O', 'O', 'O', 'O', 'O', 'O', 'O', 'O', 'O', 'O', 'O', 'O', 'O', 'B', 'I', 'I', 'I', 'I', 'O', 'O', 'O', 'O', 'O', 'O', 'O', 'O', 'O', 'O', 'O', 'O', 'O', 'O', 'O', 'B', 'I', 'I', 'I', 'O', 'O', 'O', 'O', 'O', 'O', 'O', 'O', 'O', 'O', 'O', 'O', 'O', 'O', 'O', 'O', 'O', 'O', 'O', 'B', 'I', 'I', 'O', 'B', 'I', 'I', 'O', 'O', 'O', 'O', 'O', 'O', 'O', 'O', 'O', 'O', 'B', 'I', 'O', 'O', 'B', 'I', 'O', 'O', 'B', 'I', 'I', 'I', 'I', 'I', 'I', 'I', 'I', 'I', 'O', 'O', 'O', 'O', 'O', 'O', 'O', 'O', 'O', 'O', 'O', 'O', 'O', 'O', 'O', 'B', 'I', 'I', 'O']}\n",
            "{'id': 'S0032386109006612', 'document': ['In', 'contrast', 'with', 'polymers,', 'which', 'are', 'typically', 'synthesized', 'in', 'the', 'liquid', 'phase,', 'SWNTs', 'are', 'produced', 'through', 'a', 'variety', 'of', 'synthesis', 'techniques', 'that', 'typically', 'involve', 'the', 'reaction', 'of', 'a', 'gaseous', 'carbon', 'feedstock', 'to', 'form', 'the', 'nanotubes', 'on', 'catalyst', 'particles.', 'MWNTs', 'were', 'first', 'observed', 'in', 'arc', 'discharge', 'fullerene', 'reactors', '[1,26];', 'this', 'technique', 'was', 'later', 'adapted', 'to', 'produce', 'SWNTs', '[3].', 'Similarly,', 'the', 'fullerene', 'production', 'method', 'of', 'laser', 'ablation', '[27]', 'was', 'adapted', 'to', 'produce', 'SWNTs', '(∼1.4nm', 'diameter)', 'in', 'larger', 'quantities', 'on', 'metal', 'catalyst', 'particles', '[28–30].', 'A', 'number', 'of', 'chemical', 'vapor', 'deposition', '(CVD)', 'processes', 'have', 'been', 'developed', 'to', 'grow', 'SWNTs', 'and', 'MWNTs,', 'all', 'involving', 'the', 'reaction', 'of', 'a', 'gaseous', 'carbon', 'compound', 'as', 'feedstock.', 'These', 'processes', 'include', 'fluidized', 'bed', '[31],', '“carpet”', 'growth', 'of', 'carbon', 'nanotubes', '(CNTs)', 'from', 'catalyst', 'particles', 'embedded', 'in', 'a', 'substrate', '[32–35]', 'as', 'shown', 'in', 'Fig.', '3,', 'and', '“catalytic', 'gas', 'flow', 'CVD”', '[36,37].', 'One', 'of', 'the', 'most', 'effective,', 'cheap,', 'and', 'scalable', 'CVD', 'techniques', 'is', 'the', 'HiPco', '(high-pressure', 'CO)', 'process,', 'which', 'does', 'not', 'use', 'pre-formed', 'catalyst', 'particles', 'unlike', 'most', 'other', 'CVD', 'techniques', '[38].'], 'doc_bio_tags': ['O', 'O', 'O', 'B', 'O', 'O', 'O', 'B', 'I', 'I', 'I', 'I', 'B', 'O', 'B', 'I', 'I', 'I', 'I', 'I', 'I', 'O', 'O', 'O', 'B', 'I', 'I', 'I', 'I', 'I', 'I', 'I', 'I', 'I', 'I', 'I', 'I', 'I', 'B', 'O', 'O', 'B', 'I', 'I', 'I', 'I', 'I', 'O', 'B', 'I', 'O', 'O', 'O', 'O', 'O', 'B', 'O', 'O', 'B', 'I', 'I', 'I', 'I', 'I', 'I', 'O', 'O', 'O', 'O', 'O', 'B', 'O', 'O', 'O', 'O', 'O', 'O', 'B', 'I', 'I', 'O', 'O', 'O', 'O', 'B', 'I', 'I', 'B', 'O', 'O', 'O', 'O', 'O', 'O', 'B', 'O', 'B', 'O', 'O', 'B', 'I', 'I', 'I', 'I', 'I', 'I', 'I', 'I', 'O', 'O', 'O', 'B', 'I', 'O', 'O', 'O', 'O', 'B', 'I', 'B', 'O', 'O', 'O', 'O', 'O', 'O', 'O', 'O', 'O', 'O', 'O', 'O', 'O', 'O', 'B', 'I', 'I', 'I', 'O', 'O', 'O', 'O', 'O', 'O', 'O', 'O', 'O', 'B', 'O', 'O', 'O', 'O', 'O', 'O', 'O', 'O', 'O', 'O', 'O', 'O', 'O', 'O', 'O', 'O', 'O', 'B', 'O', 'O']}\n",
            "{'id': 'S1071581916300854', 'document': ['We', 'have', 'developed', 'a', 'systematic,', 'quantified', 'understanding', 'of', 'a', 'specific', 'problem:', 'the', 'design', 'of', 'mobile-friendly', 'unique', 'identifiers.', 'But', 'our', 'results', 'also', 'apply', 'to', 'the', 'design', 'of', 'other', 'text-based', 'services.', 'There', 'has', 'been', 'a', 'trend', 'toward', 'bespoke', 'and', 'adaptive', 'keyboards', '(e.g.,', 'Dunlop', 'and', 'Levine,', '2012;', 'Karrenbauer', 'and', 'Oulasvirta,', '2014;', 'Leiva', 'et', 'al.,', '2015;', 'Wiseman', 'et', 'al.,', '2013).', 'More', 'often', 'than', 'not,', 'though,', 'input', 'devices', 'are', 'a', 'fixed', 'constraint', 'in', 'the', 'design', 'of', 'a', 'service.', 'Most', 'users', 'are', 'typing', 'on', 'the', 'keyboard', 'that', 'came', 'with', 'their', 'phone.', 'Those', 'keyboards', 'have', 'advantages,', 'limitations', 'and', 'quirks.', 'The', 'mode-switching', 'that', 'most', 'touchscreen', 'keyboards', 'require', 'to', 'reach', 'numbers', 'and', 'capital', 'letters', 'is', 'at', 'the', 'root', 'of', 'design', 'improvements', 'we', 'propose', 'in', 'this', 'paper.', 'When', 'designing', 'services,', 'it', 'is', 'vital', 'to', 'be', 'aware', 'of', 'the', 'fixed', 'constraints', 'of', 'a', 'system', 'and', 'to', 'then', 'focus', 'on', 'the', 'aspects', 'of', 'a', \"service's\", 'design', 'that', 'can', 'be', 'controlled.', 'Making', 'changes', 'to', 'input', 'data', 'in', 'this', 'way', 'is', 'a', 'cheap,', 'quick', 'and', 'easy', 'way', 'to', 'improve', 'user', 'experience.'], 'doc_bio_tags': ['O', 'O', 'O', 'O', 'O', 'O', 'O', 'O', 'O', 'O', 'O', 'O', 'O', 'O', 'O', 'O', 'O', 'O', 'O', 'O', 'O', 'O', 'O', 'O', 'O', 'O', 'O', 'O', 'O', 'O', 'O', 'O', 'O', 'O', 'O', 'B', 'I', 'I', 'I', 'O', 'O', 'O', 'O', 'O', 'O', 'O', 'O', 'O', 'O', 'O', 'O', 'O', 'O', 'O', 'O', 'O', 'O', 'O', 'O', 'O', 'O', 'B', 'I', 'O', 'O', 'O', 'O', 'O', 'O', 'B', 'I', 'I', 'I', 'O', 'O', 'O', 'O', 'O', 'O', 'O', 'O', 'O', 'O', 'O', 'O', 'O', 'O', 'O', 'O', 'O', 'O', 'O', 'O', 'O', 'O', 'O', 'O', 'O', 'O', 'O', 'O', 'O', 'O', 'O', 'O', 'O', 'O', 'O', 'O', 'O', 'O', 'O', 'O', 'O', 'O', 'O', 'O', 'O', 'B', 'I', 'O', 'O', 'O', 'O', 'O', 'O', 'O', 'O', 'O', 'O', 'O', 'O', 'O', 'O', 'O', 'O', 'O', 'O', 'O', 'O', 'O', 'O', 'O', 'O', 'O', 'O', 'O', 'O', 'O', 'O', 'O', 'O', 'O', 'O', 'O', 'O', 'O', 'O', 'O', 'O', 'O', 'O', 'O', 'O', 'O', 'O', 'O']}\n",
            "{'id': 'S0997754612001318', 'document': ['Many', 'applications', 'in', 'fluid', 'mechanics', 'have', 'shown', 'that', 'surface', 'suction', 'can', 'be', 'used', 'as', 'an', 'effective', 'flow-control', 'mechanism.', 'For', 'example,', 'Gregory', 'and', 'Walker', '[1]', 'discuss', 'how', 'the', 'introduction', 'of', 'suction', 'extends', 'the', 'laminar-flow', 'region', 'over', 'a', 'swept', 'wing', 'by', 'reducing', 'the', 'thickness', 'of', 'the', 'boundary', 'layer', 'and', 'the', 'magnitude', 'of', 'crossflow', 'velocity.', 'Conclusions', 'for', 'the', 'swept-wing', 'flow', 'arose', 'from', 'equivalent', 'studies', 'of', 'the', 'von', 'Kármán', '(rotating', 'disk)', 'flow', '(see', 'Gregory', 'and', 'Walker', '[2],', 'Stuart', '[3])', 'and', 'work', 'has', 'since', 'continued', 'into', 'this', 'and', 'related', 'flows', 'using', 'numerical', 'and', 'asymptotic', 'approaches', '(see', 'Ockendon', '[4],', 'Dhanak', '[5],', 'Bassom', 'and', 'Seddougui', '[6],', 'Lingwood', '[7],', 'Turkyilmazoglu', '[8],', 'Lingwood', 'and', 'Garrett', '[9],', 'for', 'example).', 'The', 'literature', 'shows', 'that', 'increasing', 'suction', 'has', 'a', 'stabilising', 'effect', 'on', 'the', 'general', 'class', 'of', '“Bödewadt,', 'Ekman', 'and', 'von', 'Kármán”', '(BEK)', 'flows', 'which', 'results', 'in', 'an', 'increase', 'in', 'critical', 'Reynolds', 'numbers', 'for', 'the', 'onset', 'of', 'convective', 'and', 'absolute', 'instabilities,', 'a', 'narrowing', 'in', 'the', 'range', 'of', 'unstable', 'parameters', 'and', 'a', 'decrease', 'in', 'amplification', 'rates', 'of', 'the', 'unstable', 'convective', 'modes.', 'The', 'convective', 'instability', 'results', 'are', 'interpreted', 'in', 'terms', 'of', 'a', 'delay', 'in', 'the', 'onset', 'of', 'spiral', 'vortices,', 'and', 'the', 'absolute', 'instability', 'results', 'in', 'terms', 'of', 'the', 'onset', 'of', 'laminar-turbulent', 'transition', '(Lingwood', '[7,10,11]).'], 'doc_bio_tags': ['O', 'O', 'O', 'B', 'I', 'O', 'O', 'O', 'B', 'I', 'O', 'O', 'O', 'O', 'O', 'O', 'O', 'O', 'O', 'O', 'O', 'O', 'O', 'O', 'O', 'O', 'O', 'O', 'O', 'O', 'O', 'O', 'O', 'O', 'O', 'O', 'B', 'I', 'O', 'B', 'I', 'I', 'I', 'I', 'I', 'I', 'O', 'O', 'B', 'I', 'I', 'I', 'O', 'O', 'O', 'O', 'O', 'O', 'O', 'O', 'O', 'O', 'O', 'O', 'O', 'B', 'I', 'O', 'O', 'O', 'O', 'O', 'O', 'O', 'O', 'O', 'O', 'O', 'O', 'O', 'O', 'O', 'O', 'O', 'O', 'O', 'B', 'I', 'I', 'I', 'O', 'O', 'O', 'O', 'O', 'O', 'O', 'O', 'O', 'O', 'O', 'O', 'O', 'O', 'O', 'O', 'O', 'O', 'O', 'O', 'O', 'O', 'O', 'B', 'I', 'O', 'O', 'O', 'O', 'O', 'O', 'O', 'O', 'O', 'O', 'O', 'O', 'O', 'O', 'O', 'O', 'O', 'O', 'O', 'O', 'B', 'I', 'I', 'I', 'I', 'O', 'O', 'O', 'O', 'O', 'O', 'O', 'O', 'O', 'B', 'I', 'I', 'I', 'I', 'I', 'I', 'O', 'O', 'B', 'I', 'I', 'I', 'O', 'O', 'O', 'O', 'O', 'O', 'B', 'I', 'O', 'O', 'O', 'O', 'O', 'O', 'O', 'O', 'O', 'O', 'O', 'O', 'B', 'I', 'O', 'O', 'B', 'I', 'O', 'O', 'O', 'O', 'O', 'O', 'O', 'O', 'O', 'O', 'O']}\n",
            "{'id': 'S0038092X15001681', 'document': ['For', 'the', 'reverse', 'current', 'analysis,', 'for', 'both', 'scenarios', '(shading', 'and', 'short', 'circuits)', 'were', 'tested', 'on', 'two', 'systems,', 'one', 'system', 'using', 'standard', 'silicon', 'modules', 'and', 'another', 'system', 'using', 'high', 'efficiency', 'modules.', 'For', 'the', 'standard', 'silicon', 'system,', 'a', 'power', 'of', '50kWp', 'was', 'considered,', 'with', 'a', 'system', 'composed', 'by', '10', 'strings', 'of', '24', 'modules', 'per', 'string', 'and', 'an', 'approximate', 'system', 'Voc', 'of', '864', '[VDC].', 'For', 'the', 'high', 'efficiency', 'system,', 'a', 'power', 'of', '40kWp', 'was', 'considered,', 'with', 'a', 'system', 'composed', 'by', '10', 'strings', 'of', '18', 'modules', 'per', 'string', 'and', 'an', 'approximate', 'system', 'Voc', 'of', '873', '[VDC].', 'Fig.', '5(a)', 'shows', 'the', 'reverse', 'current', 'present', 'in', 'one', 'string', 'when', 'different', 'numbers', 'of', 'modules', 'in', 'the', 'string', 'are', 'shaded', 'by', '90%.', 'Fig.', '5(b)', 'shows', 'the', 'reverse', 'current', 'present', 'in', 'one', 'string', 'when', 'different', 'numbers', 'of', 'modules', 'of', 'the', 'string', 'are', 'short-circuited.', 'For', 'both', 'figures', 'the', 'continuous', 'lines', 'are', 'for', 'the', 'standard', 'silicon', 'system', 'and', 'the', 'dashed', 'lines', 'are', 'for', 'the', 'high', 'efficiency', 'system.'], 'doc_bio_tags': ['O', 'O', 'B', 'I', 'O', 'O', 'O', 'O', 'O', 'O', 'O', 'O', 'O', 'O', 'O', 'O', 'O', 'O', 'B', 'O', 'B', 'I', 'I', 'O', 'O', 'B', 'O', 'B', 'I', 'I', 'O', 'O', 'B', 'I', 'I', 'O', 'O', 'O', 'O', 'O', 'O', 'O', 'O', 'B', 'O', 'O', 'B', 'I', 'I', 'I', 'I', 'I', 'I', 'O', 'O', 'O', 'B', 'B', 'I', 'I', 'B', 'O', 'O', 'B', 'I', 'I', 'O', 'O', 'O', 'O', 'O', 'O', 'O', 'O', 'B', 'O', 'O', 'B', 'I', 'I', 'I', 'I', 'I', 'I', 'O', 'O', 'O', 'B', 'B', 'I', 'I', 'B', 'O', 'O', 'O', 'O', 'B', 'I', 'O', 'O', 'O', 'O', 'O', 'O', 'O', 'O', 'O', 'O', 'O', 'O', 'O', 'O', 'O', 'O', 'O', 'O', 'O', 'O', 'B', 'I', 'O', 'O', 'O', 'O', 'O', 'O', 'O', 'O', 'O', 'O', 'O', 'O', 'O', 'O', 'O', 'O', 'O', 'O', 'O', 'O', 'O', 'O', 'O', 'B', 'I', 'I', 'O', 'O', 'O', 'O', 'O', 'O', 'O', 'B', 'I', 'I']}\n",
            "{'id': 'S2212667813000774', 'document': ['Evolutionary', 'Algorithms', 'are', 'the', 'stochastic', 'optimization', 'methods,', 'simulating', 'the', 'behavior', 'of', 'natural', 'evolution.', 'These', 'algorithms', 'are', 'basically', 'population', 'based', 'search', 'procedures', 'efficiently', 'dealing', 'with', 'complex', 'search', 'spaces', 'having', 'robust', 'and', 'powerful', 'search', 'mechanism.', 'EAs', 'are', 'highly', 'applicable', 'in', 'multiobjective', 'optimization', 'problem', 'which', 'are', 'having', 'conflicting', 'objectives.', 'This', 'paper', 'reviews', 'the', 'work', 'carried', 'out', 'for', 'diversity', 'and', 'convergence', 'issues', 'in', 'EMO.'], 'doc_bio_tags': ['B', 'I', 'O', 'O', 'B', 'I', 'I', 'O', 'O', 'O', 'O', 'B', 'I', 'O', 'O', 'O', 'O', 'B', 'I', 'I', 'I', 'O', 'O', 'O', 'O', 'O', 'O', 'O', 'O', 'O', 'O', 'B', 'I', 'B', 'O', 'O', 'O', 'O', 'O', 'B', 'I', 'O', 'O', 'O', 'O', 'O', 'O', 'O', 'O', 'O', 'O', 'O', 'O', 'O', 'O', 'O', 'O', 'O', 'O', 'B']}\n",
            "{'id': 'S2352179114200032', 'document': ['Although', 'the', 'presented', 'model', 'is', 'developed', 'and', 'tested', 'with', 'a-C:H', 'layers', 'in', 'mind,', 'it', 'is', 'not', 'necessarily', 'limited', 'to', 'them.', 'Moreover,', 'the', 'only', 'assumptions', 'are', 'chemical', 'reactions', 'between', 'the', 'gas', 'and', 'the', 'solid', 'forming', 'volatiles,', 'the', 'loss', 'of', 'these', 'volatiles', 'from', 'the', 'material', 'and', 'the', 'two', 'stated', 'boundary', 'conditions', 'of', 'gas', 'influx', 'at', 'a', 'single', 'outer', 'surface', 'and', 'the', 'possibility', 'of', 'reactions', 'throughout', 'the', 'bulk.', 'Porosity', 'and', 'significant', 'gas', 'inventories', 'were', 'observed', 'not', 'only', 'for', 'carbon', '[12]', 'but,', 'e.g.', 'also', 'for', 'beryllium', 'co-deposits', '[25]', 'and', 'can', 'be', 'expected', 'for', 'other', 'co-deposits', 'formed', 'in', 'plasma', 'devices', '[1].', 'Thus,', 'TCR', 'and', 'its', 'description', 'by', 'the', 'presented', 'model', 'may', 'be', 'applicable', 'to', 'all', 'deposits.', 'If', 'a', 'layer', 'has', 'constituents', 'that', 'are', 'not', 'forming', 'volatiles', 'with', 'the', 'reactive', 'gas,', 'e.g.', 'W', 'and', 'Be', 'with', 'O2,', 'these', 'constituents', 'cannot', 'be', 'removed', 'by', 'TCR,', 'as', 'they', 'will', 'not', 'be', 'removed', 'from', 'the', 'deposit.', 'This', 'can', 'influence', 'the', 'removal', 'of', 'other', 'deposit', 'constituents', 'and', 'the', 'time', 'evolution', 'of', 'the', 'process', 'can', 'change.', 'The', 'new', 'understanding', 'of', 'TCR', 'may,', 'for', 'the', 'first', 'time,', 'allow', 'applying', 'the', 'method', 'in', 'a', 'controlled', 'way', 'to', 'nuclear', 'fusion', 'devices,', 'possibly', 'solving', 'the', 'tritium', 'retention', 'issue', 'especially', 'related', 'to', 'carbon', 'based', 'materials.'], 'doc_bio_tags': ['O', 'O', 'O', 'O', 'O', 'O', 'O', 'O', 'O', 'O', 'O', 'O', 'O', 'O', 'O', 'O', 'O', 'O', 'O', 'O', 'O', 'O', 'O', 'O', 'O', 'B', 'I', 'O', 'O', 'B', 'O', 'O', 'B', 'I', 'I', 'O', 'O', 'O', 'O', 'O', 'O', 'O', 'O', 'O', 'O', 'O', 'O', 'O', 'O', 'O', 'B', 'O', 'O', 'O', 'B', 'I', 'I', 'O', 'O', 'O', 'O', 'B', 'O', 'O', 'O', 'B', 'O', 'O', 'B', 'O', 'O', 'O', 'O', 'O', 'O', 'B', 'O', 'O', 'O', 'O', 'O', 'O', 'O', 'O', 'O', 'O', 'O', 'O', 'O', 'O', 'O', 'O', 'O', 'B', 'I', 'O', 'O', 'B', 'O', 'O', 'O', 'O', 'O', 'O', 'O', 'O', 'O', 'O', 'O', 'O', 'O', 'O', 'O', 'O', 'O', 'B', 'I', 'I', 'I', 'I', 'I', 'I', 'I', 'I', 'I', 'O', 'B', 'I', 'I', 'I', 'I', 'O', 'O', 'O', 'O', 'O', 'O', 'B', 'O', 'O', 'O', 'O', 'O', 'O', 'O', 'O', 'O', 'O', 'O', 'O', 'O', 'O', 'O', 'O', 'B', 'I', 'O', 'O', 'O', 'O', 'O', 'O', 'O', 'O', 'O', 'O', 'O', 'O', 'O', 'B', 'O', 'O', 'O', 'O', 'O', 'O', 'O', 'O', 'O', 'O', 'O', 'O', 'O', 'O', 'B', 'I', 'I', 'O', 'O', 'O', 'B', 'O', 'O', 'O', 'O', 'O', 'B', 'O', 'O']}\n",
            "{'id': 'S0377221716301357', 'document': ['As', 'mentioned', 'earlier,', 'this', 'paper', 'represents', 'ongoing', 'efforts', 'to', 'efficiently', 'address', 'the', 'stochastic', 'MPSP.', 'Future', 'work', 'may', 'consider', 'investigating', 'whether', 'the', 'algorithm', 'would', 'be', 'as', 'successful', 'or', 'not', 'in', 'solving', 'variants', 'of', 'the', 'MPSP', 'that', 'include', 'more', 'operational', 'constraints,', 'such', 'as', 'variable', 'cut-off', 'grade,', 'grade', 'blending,', 'and', 'stockpiling,', 'as', 'it', 'is', 'in', 'solving', 'the', '“classical”', 'variant', 'considered', 'in', 'this', 'paper.', 'Indeed,', 'it', 'is', 'a', 'general-purpose', 'algorithm', 'and', 'should', 'be', 'applicable', 'to', 'any', 'of', 'these', 'variants.', 'Other', 'research', 'avenues', 'include', 'considering', 'other', 'strategies', 'for', 'updating', 'the', 'penalties', 'within', 'PH', 'and', 'other', 'methods', 'for', 'solving', 'the', 'sub-problems.', 'Finally,', 'another', 'important', 'research', 'direction', 'is', 'the', 'development', 'of', 'other', 'efficient', 'solution', 'approaches.', 'Since', 'it', 'has', 'been', 'observed', 'empirically', 'that', 'the', 'problem', 'formulation', 'often', 'achieves', 'small', 'integrality', 'gaps,', 'one', 'approach', 'could', 'be', 'to', 'solve', 'the', 'linear', 'relaxation', 'of', 'the', 'problem', 'using', 'an', 'efficient', 'algorithm', 'and', 'then', 'to', 'use', 'an', 'LP-rounding', 'procedure', 'to', 'get', 'an', 'integer', 'solution.'], 'doc_bio_tags': ['O', 'O', 'O', 'O', 'O', 'O', 'O', 'O', 'O', 'O', 'O', 'O', 'O', 'B', 'O', 'O', 'O', 'O', 'O', 'O', 'O', 'O', 'O', 'O', 'O', 'O', 'O', 'O', 'O', 'O', 'O', 'O', 'O', 'B', 'O', 'O', 'O', 'B', 'I', 'O', 'O', 'O', 'O', 'O', 'B', 'I', 'O', 'B', 'O', 'O', 'O', 'O', 'O', 'O', 'O', 'O', 'O', 'O', 'O', 'O', 'O', 'O', 'O', 'O', 'O', 'O', 'O', 'O', 'O', 'O', 'O', 'O', 'O', 'O', 'O', 'O', 'O', 'O', 'O', 'O', 'O', 'O', 'O', 'O', 'O', 'O', 'O', 'B', 'O', 'O', 'O', 'O', 'O', 'O', 'O', 'O', 'O', 'O', 'O', 'O', 'O', 'O', 'O', 'O', 'O', 'O', 'O', 'O', 'O', 'O', 'O', 'O', 'O', 'O', 'O', 'O', 'O', 'O', 'O', 'O', 'O', 'O', 'O', 'O', 'O', 'O', 'O', 'O', 'B', 'I', 'I', 'I', 'O', 'O', 'O', 'O', 'O', 'O', 'O', 'O', 'O', 'O', 'O', 'O', 'O', 'O', 'O', 'O', 'O', 'O', 'O']}\n",
            "{'id': 'S221267161200217X', 'document': ['The', 'existing', 'GO', 'methodology', 'algorithm', 'is', 'theoretical,', 'and', 'hard', 'to', 'solve', 'with', 'computer.', 'In', 'this', 'paper,', 'we', 'research', 'a', 'new', 'method', 'to', 'get', 'the', 'reliability', 'of', 'system', 'based', 'on', 'GO', 'methodology.', 'According', 'to', 'some', 'properties', 'of', 'the', 'operators', 'in', 'GO', 'chart,', 'GO', 'chart', 'can', 'be', 'transformed', 'into', 'series', 'structure,', 'then', 'the', 'minimal', 'path', 'sets', 'are', 'induced', 'based', 'on', 'Enumeration', 'method', 'from', 'first', 'operator', 'to', 'last', 'one.', 'It', 'is', 'very', 'convenient', 'for', 'computer', 'to', 'calculate', 'the', 'system', 'reliability', 'with', 'the', 'new', 'method', 'based', 'on', 'minimal', 'path', 'sets.', 'The', 'case', 'study', 'indicates', 'the', 'method', 'is', 'suitable', 'for', 'practical', 'engineering,', 'which', 'can', 'be', 'used', 'to', 'possess', 'the', 'quantitative', 'analysis', 'of', 'complex', 'GO', 'methodology', 'models.'], 'doc_bio_tags': ['O', 'O', 'B', 'I', 'O', 'O', 'O', 'O', 'O', 'O', 'O', 'O', 'O', 'O', 'O', 'O', 'O', 'O', 'O', 'O', 'O', 'O', 'O', 'O', 'O', 'O', 'O', 'O', 'O', 'B', 'I', 'O', 'O', 'O', 'O', 'O', 'O', 'O', 'O', 'B', 'I', 'B', 'I', 'O', 'O', 'O', 'O', 'B', 'I', 'O', 'O', 'B', 'I', 'I', 'O', 'O', 'O', 'O', 'B', 'I', 'O', 'O', 'O', 'O', 'O', 'O', 'O', 'O', 'O', 'O', 'O', 'O', 'O', 'B', 'I', 'I', 'I', 'O', 'O', 'O', 'O', 'O', 'O', 'B', 'I', 'I', 'O', 'O', 'O', 'O', 'O', 'O', 'O', 'O', 'O', 'B', 'I', 'O', 'O', 'O', 'O', 'O', 'O', 'O', 'B', 'I', 'O', 'B', 'I', 'I', 'I']}\n",
            "{'id': 'S0032386114008428', 'document': ['Another', 'choice', 'was', 'to', 'graft', 'the', 'fluorinated', 'groups', 'on', 'the', 'copolymers', 'with', 'functional', 'groups.', 'Casazza', 'et', 'al.', '[52]', 'synthesized', 'an', 'acrylic', 'terpolymer', 'with', 'pendent', 'perfluoroether', 'segments', 'via', 'grafting', 'fluorinated', 'groups', 'into', 'a', 'poly(butyl', 'methacrylate-co-hydroxyehtyl', 'acrylate-co-ethyl', 'acrylate)', 'random', 'copolymer', 'through', 'hexamethylene', 'diisocyanate', 'functionality.', 'Malshe', 'et', 'al.', '[53,54]', 'studied', 'the', 'coating', 'properties', 'of', 'fluorinated', 'acrylic', 'copolymers', 'based', 'on', 'MMA,', 'BA,', 'and', '2-hydroxyethyl', 'methacrylate', '(HEMA).', 'They', 'partially', 'esterified', 'hydroxyl', 'functionality', 'of', 'HEMA', 'with', 'tetrafluoro', 'propanoic', 'acid', 'and', 'cured', 'the', 'polymer', 'with', 'butylated', 'melamine', 'formaldehyde', 'resin.', 'Such', 'methods', 'were', 'suited', 'for', 'the', 'synthesis', 'of', 'copolymers', 'containing', 'complicated', 'fluorinated', 'groups', 'or', 'difficult', 'to', 'be', 'provided', 'directly', 'by', 'living', 'polymerization.'], 'doc_bio_tags': ['B', 'I', 'O', 'O', 'B', 'I', 'I', 'I', 'I', 'I', 'I', 'I', 'I', 'I', 'O', 'O', 'O', 'O', 'O', 'B', 'I', 'I', 'I', 'I', 'I', 'I', 'O', 'B', 'I', 'I', 'O', 'O', 'O', 'O', 'O', 'O', 'O', 'B', 'O', 'B', 'I', 'I', 'O', 'O', 'O', 'O', 'O', 'O', 'O', 'O', 'O', 'B', 'I', 'I', 'O', 'O', 'B', 'B', 'O', 'O', 'O', 'B', 'O', 'O', 'O', 'O', 'O', 'O', 'B', 'O', 'O', 'O', 'O', 'O', 'O', 'B', 'I', 'I', 'I', 'I', 'I', 'I', 'O', 'O', 'O', 'O', 'O', 'O', 'O', 'O', 'B', 'I', 'I', 'I', 'I', 'O', 'O', 'O', 'O', 'O', 'O', 'O', 'B', 'I']}\n"
          ]
        }
      ],
      "source": [
        "from datasets import load_dataset\n",
        "dataset = load_dataset(\"midas/semeval2017\")\n",
        "\n",
        "# Load the first 10 entries from the dataset\n",
        "for i in range(10):\n",
        "    print(dataset['train'][i])\n",
        "\n",
        "data = dataset[\"train\"]\n",
        "#we open and visualize a portion of the dataset\n",
        "# f = open('/content/Lab_2_datasets/semeval.txt')\n",
        "# print(\"\".join(f.readlines()[:10]))\n",
        "# f.close()"
      ]
    },
    {
      "cell_type": "markdown",
      "id": "qjgBlhADFas6",
      "metadata": {
        "id": "qjgBlhADFas6"
      },
      "source": [
        "Instead of running `most_similar` on each entry, we can use the built-in function [`evaluate_word_analogies`](https://radimrehurek.com/gensim/models/keyedvectors.html#gensim.models.keyedvectors.KeyedVectors.evaluate_word_analogies) which computes the performance of the model over an analogy test set."
      ]
    },
    {
      "cell_type": "code",
      "execution_count": null,
      "id": "C59ELRZDFVfZ",
      "metadata": {
        "id": "C59ELRZDFVfZ"
      },
      "outputs": [],
      "source": [
        "accuracy, results = embeddings.evaluate_word_analogies('/content/Lab_2_datasets/semeval.txt')\n",
        "print(\"Accuracy \", accuracy)\n",
        "print(results[0].keys())\n",
        "print(\"Correct \", len(results[0]['correct']) ,results[0]['correct'][:5])\n",
        "print(\"Incorrect\" , len(results[0]['incorrect']) , results[0]['incorrect'][:5])"
      ]
    },
    {
      "cell_type": "markdown",
      "id": "N9b3DHd5DFOP",
      "metadata": {
        "id": "N9b3DHd5DFOP"
      },
      "source": [
        "# Exercises"
      ]
    },
    {
      "cell_type": "markdown",
      "id": "zjqqhwYxDYaC",
      "metadata": {
        "id": "zjqqhwYxDYaC"
      },
      "source": [
        "## Part1: Working with pre-trained embeddings"
      ]
    },
    {
      "cell_type": "markdown",
      "id": "tE2GljIVHnqI",
      "metadata": {
        "id": "tE2GljIVHnqI"
      },
      "source": [
        "**Ex.1**\n",
        "\n",
        "Find the 10 most similar words (with the highest cosine similarity) to \"people\", \"men\", \"women\" and \"children\", without using Gensim `most_similar` function. Use the GloVe embeddings saved in `embeddings`.\n",
        "\n",
        "You might find the function [```numpy.argsort```](https://numpy.org/doc/2.1/reference/generated/numpy.argsort.html) useful.\n",
        "\n",
        "Previously we obtained the following results:\n",
        "\n",
        "* Most similar words to `people`: 'others','those','least','many','some','all','them','thousands','hundreds','there'\n",
        "* Most similar words to `men`: 'women','man','soldiers','who','boys','young','male','they','girls','four'\n",
        "* Most similar words to `women`: 'men','girls','female','woman','male', 'mothers','athletes','she','young','children'\n",
        "* Most similar words to `children`: 'parents','child','kids','daughters', 'girls', 'youngsters','mothers','adults','teenagers','babies'"
      ]
    },
    {
      "cell_type": "code",
      "execution_count": 83,
      "id": "KAVwRdr1Rh84",
      "metadata": {
        "id": "KAVwRdr1Rh84"
      },
      "outputs": [
        {
          "name": "stdout",
          "output_type": "stream",
          "text": [
            "['others', 'those', 'least', 'many', 'some', 'all', 'them', 'thousands', 'hundreds', 'there']\n",
            "['women', 'man', 'soldiers', 'who', 'boys', 'young', 'male', 'they', 'girls', 'four']\n",
            "['men', 'girls', 'female', 'woman', 'male', 'mothers', 'athletes', 'she', 'young', 'children']\n",
            "['parents', 'child', 'kids', 'daughters', 'girls', 'youngsters', 'mothers', 'adults', 'teenagers', 'babies']\n"
          ]
        }
      ],
      "source": [
        "#Ex 1\n",
        "words_of_interest = [\"people\", \"men\", \"women\", \"children\"]\n",
        "embeddings_matrix = embeddings.vectors # 300 * 40000\n",
        "vocab_words = embeddings.index_to_key\n",
        "for word in words_of_interest:\n",
        "    sim = cosine_similarity([embeddings[word]], embeddings_matrix)[0] # 1 * 300 , 300 * 40000  \n",
        "    top_indices = np.argsort(-sim)[1:11]\n",
        "    top_words = [vocab_words[i] for i in top_indices]\n",
        "    print(top_words)\n",
        "# the similarities from vec to every word\n",
        "# find the 10 most similar words to words_of_interest\n"
      ]
    },
    {
      "cell_type": "markdown",
      "id": "33dcab8d-23ba-4da0-b870-cd25b24db593",
      "metadata": {
        "id": "33dcab8d-23ba-4da0-b870-cd25b24db593",
        "tags": []
      },
      "source": [
        "**Ex.2**\n",
        "\n",
        "Replicate the instrisic evaluation of the embedding on the MEN benchmark without using the `evaluate_word_pairs` function. If the embedding for a word in a pair is not present, it should be skipped.\n",
        "\n",
        "To compute the correlations use the functions [```spearmanr```](https://docs.scipy.org/doc/scipy/reference/generated/scipy.stats.spearmanr.html) and [```pearsonr```](https://docs.scipy.org/doc/scipy/reference/generated/scipy.stats.pearsonr.html) from ```scipy.stats```, and the GloVe embeddings saved in `embeddings`.\n",
        "\n",
        "\n",
        "Previously we obtained the following results:\n",
        "\n",
        "* `PearsonRResult(statistic=0.7297760672817454, pvalue=0.0)`\n",
        "* ```SignificanceResult(statistic=0.7374646969805516, pvalue=0.0)```\n",
        "\n",
        "\n"
      ]
    },
    {
      "cell_type": "code",
      "execution_count": 166,
      "id": "4567509d",
      "metadata": {},
      "outputs": [
        {
          "name": "stdout",
          "output_type": "stream",
          "text": [
            "Pearson correlation: 0.696241539123343 0.0\n",
            "Spearman correlation: 0.7014856646531227 0.0\n"
          ]
        }
      ],
      "source": [
        "# compute the cosine similarity among the embeddings for each pair of words in the MEN benchmark, if both are present in the vocabulary.\n",
        "# If one or both are not present, they should be skipped\n",
        "# IMPORTANT: if a word pair is skipped, the associated human score should also not be considered\n",
        "from scipy.stats import spearmanr, pearsonr\n",
        "\n",
        "human_scores = []\n",
        "embedding_scores = []\n",
        "\n",
        "for i, row in ws_df.iterrows():\n",
        "    w1, w2, score = row[0], row[1], float(row[2])\n",
        "    \n",
        "    # Make sure both words exist in the embeddings\n",
        "    if w1 in embeddings and w2 in embeddings:\n",
        "        vec1 = embeddings[w1].reshape(1, -1)\n",
        "        vec2 = embeddings[w2].reshape(1, -1)\n",
        "        sims = cosine_similarity(vec1, vec2)[0][0]\n",
        "\n",
        "        human_scores.append(score)\n",
        "        embedding_scores.append(sims)\n",
        "    else:\n",
        "        continue\n",
        "\n",
        "h_sc_arr = np.array(human_scores)\n",
        "e_sc_arr = np.array(embedding_scores)\n",
        "pearsonr_corr, pearsonr_p = pearsonr(h_sc_arr, e_sc_arr)\n",
        "spearmanr_corr, spearmanr_p= spearmanr(h_sc_arr, e_sc_arr)\n",
        "print(\"Pearson correlation:\", pearsonr_corr, pearsonr_p)\n",
        "print(\"Spearman correlation:\", spearmanr_corr, spearmanr_p)\n",
        "# compute the correlations using the functions pearsonr and spearmanr\n",
        "# both functions take array-like data structures (arrays, lists)"
      ]
    },
    {
      "cell_type": "code",
      "execution_count": 152,
      "id": "3590c348",
      "metadata": {},
      "outputs": [
        {
          "data": {
            "text/plain": [
              "0         hamster\n",
              "1             bed\n",
              "2       raspberry\n",
              "3         cooking\n",
              "4        downtown\n",
              "          ...    \n",
              "2991          art\n",
              "2992           ad\n",
              "2993       petals\n",
              "2994       forest\n",
              "2995        shade\n",
              "Name: 0, Length: 2996, dtype: object"
            ]
          },
          "execution_count": 152,
          "metadata": {},
          "output_type": "execute_result"
        }
      ],
      "source": [
        "ws_df[0]"
      ]
    },
    {
      "cell_type": "markdown",
      "id": "25134a35-3180-457b-bcf9-93268a6032ee",
      "metadata": {
        "id": "25134a35-3180-457b-bcf9-93268a6032ee",
        "tags": []
      },
      "source": [
        "## Part 2 : Training your own embeddings"
      ]
    },
    {
      "cell_type": "markdown",
      "id": "I9YqFuf3JyGX",
      "metadata": {
        "id": "I9YqFuf3JyGX"
      },
      "source": [
        "We will now see how to train your own embeddings. We will use a dataset containing posts during the first year of the pandemic (January-December 2020). In total it contains 63806 entries."
      ]
    },
    {
      "cell_type": "code",
      "execution_count": null,
      "id": "CJUulUKW8kWa",
      "metadata": {
        "id": "CJUulUKW8kWa"
      },
      "outputs": [],
      "source": [
        "# let's visualize the dataset\n",
        "import pandas as pd\n",
        "# we read the excel into a dataframe and visualize the first rows\n",
        "covid_df = pd.read_excel('/content/Lab_2_datasets/Covid_dataset_en.xlsx')\n",
        "covid_df.head()"
      ]
    },
    {
      "cell_type": "markdown",
      "id": "uX3FUsdvMlOt",
      "metadata": {
        "id": "uX3FUsdvMlOt"
      },
      "source": [
        "To start we need to 1) lowercase the text and 2) clean the dataset from common characters that might be present. If we don't do this, we risk getting multiple vectors for the same word like: `CORONAVIRUS`, `coronavirus`, `coronavirus.` or `#coronavirus`."
      ]
    },
    {
      "cell_type": "code",
      "execution_count": null,
      "id": "t7aYiwPzCaZ7",
      "metadata": {
        "id": "t7aYiwPzCaZ7"
      },
      "outputs": [],
      "source": [
        "import re\n",
        "# we lowercase all entries in the column\n",
        "covid_df['Post Description'] = covid_df['Post Description'].str.lower()\n",
        "# we remove common punctuation marks\n",
        "covid_df['Post Description'] = covid_df['Post Description'].map(lambda x: re.sub('[\\[\\]()/\\-\\_#@.!?,;.:]', '', str(x)))\n",
        "# we remove newline characters\n",
        "covid_df['Post Description'] = covid_df['Post Description'].map(lambda x: re.sub('\\n', ' ', str(x)))\n",
        "covid_df.head()"
      ]
    },
    {
      "cell_type": "markdown",
      "id": "a3mfwr1TW3e6",
      "metadata": {
        "id": "a3mfwr1TW3e6"
      },
      "source": [
        "Different tasks require different preprocessing techniques. For example, if we were working on sentiment classification we could want to keep punctuation marks that express some degree of emphasis, like `!` or `?`.\n",
        "\n",
        "Other common preprocessing steps are **stopwords removal** and **stemming** or **lemmatization**.\n",
        "\n",
        "**Stopwords** are frequently used words that do not have any specific meaning, like `the`, `a`, `an`. As they do not add information, they are generally removed to make processing a text faster and to avoid wasting memory on embeddings that are not important.\n",
        "\n",
        "**Stemming** and **lemmatization** are two NLP techniques with the goal of reducing the vocabulary size. The goal of these techniques is to reduce multiple forms of a same word to a single one (e.g., `run`, `running`, `runs` -> `run`).\n",
        "\n",
        "**Stemming** removes all common suffixes from words to obtain the root, however the result can sometimes be a little malformed or straight up incorrect (e.g., `vaccination` -> `vaccin` or `caring` -> `car`)\n",
        "\n",
        "**Lemmatization**, instead, assigns each word to its base form to a lemma, a regular word that could be found in a dictionary (e.g., `vaccination` -> `vaccine` or `caring` -> `care`). To assign the correct lemma to each word, lemmatizers are usually employed along with POS taggers, as words might assume different lemmas depending on their Part-Of-Speech tag:\n",
        "* He is **running** away -> running is verb -> lemma=`run`\n",
        "* **Running** is healthy for you -> running is a noun -> lemma=`running`\n"
      ]
    },
    {
      "cell_type": "code",
      "execution_count": null,
      "id": "zvECES1XFit0",
      "metadata": {
        "id": "zvECES1XFit0"
      },
      "outputs": [],
      "source": [
        "import nltk\n",
        "\n",
        "# we use nltk list of stopwords\n",
        "nltk.download('stopwords')\n",
        "from nltk.corpus import stopwords\n",
        "stop_words = stopwords.words('english')\n",
        "print(stop_words)\n",
        "\n",
        "# sometimes we may want to add additional words to the list, this can be done using the following line of code:\n",
        "# stop_words.extend([\"example\"])"
      ]
    },
    {
      "cell_type": "code",
      "execution_count": null,
      "id": "HrMQzRo5HOS4",
      "metadata": {
        "id": "HrMQzRo5HOS4"
      },
      "outputs": [],
      "source": [
        "from gensim.test.utils import common_texts\n",
        "import spacy\n",
        "\n",
        "# we use spacy lemmatizer\n",
        "# in addition to a pos tagger, spacy pipeline also includes a parser and named entity recognition\n",
        "# we won't be using them, so we disable those options\n",
        "lemma = spacy.load('en_core_web_sm', disable=['parser', 'ner'])\n",
        "\n",
        "# we create a list with all the posts\n",
        "posts = covid_df['Post Description'].values.tolist()\n",
        "\n",
        "# we run the lemmatizer and remove words that are stopwords\n",
        "preprocessed_posts = []\n",
        "for lemmatized_post in lemma.pipe(covid_df['Post Description']):\n",
        "    preprocessed_posts.append(\" \".join(word.lemma_ for word in lemmatized_post if word.lemma_ not in stop_words))"
      ]
    },
    {
      "cell_type": "markdown",
      "id": "Joz3IGuOa-Vk",
      "metadata": {
        "id": "Joz3IGuOa-Vk"
      },
      "source": [
        "**Let**'s see what the final result is!"
      ]
    },
    {
      "cell_type": "code",
      "execution_count": null,
      "id": "bMeq_BjvGw5d",
      "metadata": {
        "id": "bMeq_BjvGw5d"
      },
      "outputs": [],
      "source": [
        "print(\"ORIGINAL: \", posts[0])\n",
        "print(\"PROCESSED: \", preprocessed_posts[0])"
      ]
    },
    {
      "cell_type": "markdown",
      "id": "btW97XALitkA",
      "metadata": {
        "id": "btW97XALitkA"
      },
      "source": [
        "We can save the preprocessed posts in a new column of the dataframe, for easy access."
      ]
    },
    {
      "cell_type": "code",
      "execution_count": null,
      "id": "Aa2R1JgG3Eb9",
      "metadata": {
        "id": "Aa2R1JgG3Eb9"
      },
      "outputs": [],
      "source": [
        "covid_df[\"preprocessed_posts\"] = preprocessed_posts"
      ]
    },
    {
      "cell_type": "markdown",
      "id": "2A4Eg3BTjLp9",
      "metadata": {
        "id": "2A4Eg3BTjLp9"
      },
      "source": [
        "We can now train our [Word2Vec](https://radimrehurek.com/gensim/models/word2vec.html) Gensim model!\n",
        "The main arguments are:\n",
        "* ```sentences [iterable of iterables] ``` : list of lists of tokens (words) from the corpora.\n",
        "* ```vector_size  [int] ``` : optional, dimension of the word vectors.\n",
        "* ```window  [int] ```: optional, size of the window.\n",
        "* ```min_count  [int] ```: optional, ignore words with a total frequency lower than the given value.\n",
        "* ```seed  [int] ```: optional, set seed for random generator, useful for reproducibility results.\n",
        "* ```max_vocab_size  [int] ```: optional, limit the maximum size of the learned vocabulary.\n",
        "* ```workers  [int] ```: optional, number of threads to be used during training. To ensure reproducible results it should be set to 1.\n",
        "* ```sg  [int] ```: optional 0/1, if 1 skip-gram will be used, otherwise CBOW is used.\n",
        "\n",
        "**See the documentation for the full list!**\n",
        "\n",
        "`preprocessed_posts` is a list of strings, but the model takes a list of lists of tokens as input, we have to transform it."
      ]
    },
    {
      "cell_type": "code",
      "execution_count": null,
      "id": "Eks6RSPRLFNH",
      "metadata": {
        "id": "Eks6RSPRLFNH"
      },
      "outputs": [],
      "source": [
        "# we split each string into a list of words\n",
        "preprocessed_posts = [post.split(\" \") for post in preprocessed_posts]"
      ]
    },
    {
      "cell_type": "code",
      "execution_count": null,
      "id": "8HR0vZ70pkre",
      "metadata": {
        "id": "8HR0vZ70pkre"
      },
      "outputs": [],
      "source": [
        "import numpy as np"
      ]
    },
    {
      "cell_type": "code",
      "execution_count": null,
      "id": "oTtujVsB7nIe",
      "metadata": {
        "id": "oTtujVsB7nIe"
      },
      "outputs": [],
      "source": [
        "# we import the model\n",
        "from gensim.models import Word2Vec\n",
        "\n",
        "# we set the seeds needed to ensure reproducibility of results\n",
        "import os\n",
        "import random\n",
        "os.environ['PYTHONHASHSEED']=str(123)\n",
        "np.random.seed(0)\n",
        "random.seed(0)\n",
        "\n",
        "# we instantiate the model and training starts automatically\n",
        "model = Word2Vec(preprocessed_posts, seed=0, window=7, min_count=5, max_final_vocab=50000, vector_size=300, workers=1)\n",
        "# we can get the trained vectors as KeyedVectors\n",
        "word_vectors = model.wv"
      ]
    },
    {
      "cell_type": "markdown",
      "id": "QQIZ_-2DdBgR",
      "metadata": {
        "id": "QQIZ_-2DdBgR"
      },
      "source": [
        "If we are done training and no longer need the full state of the model, we can extract the learned vectors as KeyedVectors and use those directly for faster loading and computation."
      ]
    },
    {
      "cell_type": "code",
      "execution_count": null,
      "id": "Y0crC4n-FvYY",
      "metadata": {
        "id": "Y0crC4n-FvYY"
      },
      "outputs": [],
      "source": [
        "# we can save the model in case we may need it\n",
        "model.save(\"word2vec_covid_trained.model\")\n",
        "# to load it back we just use the following instruction\n",
        "# model = Word2Vec.load(\"word2vec_covid_trained.model\")\n",
        "\n",
        "# we can also save and load the trained word vectors\n",
        "word_vectors.save(\"word2vec_covid_trained.wordvectors\")\n",
        "#from gensim.models import KeyedVectors\n",
        "#reloaded_word_vectors = KeyedVectors.load('word2vec_covid_trained.wordvectors')\n",
        "\n",
        "# we delete the model as we don't need to train it further\n",
        "del model"
      ]
    },
    {
      "cell_type": "markdown",
      "id": "25-Pi9ZtDBBF",
      "metadata": {
        "id": "25-Pi9ZtDBBF"
      },
      "source": [
        "Let's look at the words most similar to those commonly associated with the coronavirus epidemic."
      ]
    },
    {
      "cell_type": "code",
      "execution_count": null,
      "id": "tlyethIahbMp",
      "metadata": {
        "id": "tlyethIahbMp"
      },
      "outputs": [],
      "source": [
        "print(word_vectors.most_similar('covid', topn=5))\n",
        "print(word_vectors.most_similar('coronavirus', topn=5))\n",
        "print(word_vectors.most_similar('pandemic', topn=5))\n",
        "print(word_vectors.most_similar('epidemic', topn=5))"
      ]
    },
    {
      "cell_type": "markdown",
      "id": "0afb3C0bD68y",
      "metadata": {
        "id": "0afb3C0bD68y"
      },
      "source": [
        "We may want to further explore the associations between a word and its nearest neighbors, one way to do this is a 2-hop neighborhood graph. This may be useful to understand how a certain topic has been discussed in a corpora.\n",
        "\n",
        "To create a 2-hop graph we have to do the following:\n",
        "1. We start from a `seed`, the central word that we want to build our graph around.\n",
        "2. We then consider its neighbors.\n",
        "3. We take the neighbors that are above a certain cosine similarity threshold `thr`. We remove connections that were already considered (so those that link back to the seed word). This is the first hop, where a **hop** is a direct connection between words.\n",
        "4. We proceed by considering the neighbors of the neighbors.\n",
        "5. We take those that are above the threshold and were not previously considered. This is the second hop.\n",
        "6. We build a weighted undirected graph where each node is a word, and the edges are the direct connections between words with the cosine similarity as the weight.\n",
        "\n",
        "Let's see an example with `seed`=**coronavirus** and `thr`=**0.5**:\n",
        "\n",
        "1.   We check the neighbors of the word **coronavirus**: ('virus' sim=0.5887, 'covid19' sim=0.5254, 'covidー19' sim=0.4906, 'coronaviruspandemic' sim=0.4771, ...)\n",
        "2.   We select the neighbors that are above `thr`: **('virus', 'covid19')**\n",
        "3.   We check the neighbors of the word **virus**: ('disease' sim=0.6745, 'rumor' sim=0.6075, 'contagious' sim=0.5917, '**coronavirus**' sim=0.5887,'sar' sim=0.4910, 'infect' sim=0.4885, 'problem' sim=0.4884, ...)\n",
        "4.   We select the neighbors that are above `thr`: **('disease', 'rumor', 'contagious')**. We exclude the word **coronavirus** because it is the seed word. We have already considered the connection **coronavirus**-**virus**, if we also consider **virus**-**coronavirus** we are going to have a duplicated edge. This may not be important in small graphs, but in bigger graphs having a lot of duplicated edges can become computationally expensive.\n",
        "5.   We check the neighbors of the word **covid19**: ('**coronavirus**' sim=0.5254, 'covidー19' sim=0.4463, 'covid' sim=0.4419, ...)\n",
        "6.   We select the neighbors that are above `thr` and were not previously considered: **('covidー19')**\n",
        "7.   We build the following graph:\n",
        "    \n",
        "\n",
        "  ```\n",
        "                                  node1  -  node2  -  weight\n",
        "                              ---------------------------------\n",
        "                              coronavirus   virus      0.5887\n",
        "                              coronavirus  covid19     0.5254\n",
        "                                 virus     disease     0.6745\n",
        "                                 virus      rumor      0.6075\n",
        "                                 virus    contagious   0.5917\n",
        "                                covid19    covid-19    0.4463\n",
        "  ```\n",
        "\n",
        "\n",
        "\n",
        "\n",
        "You can also build a 2-hop graph starting from multiple related seeds."
      ]
    },
    {
      "cell_type": "markdown",
      "id": "dz1saeMWXHzk",
      "metadata": {
        "id": "dz1saeMWXHzk"
      },
      "source": [
        "Ex.3\n",
        "\n",
        "Create a two-hop graph starting from the word `pandemic` and considering only words that have a cosine similarity threshold above or equal to `0.6`.\n",
        "\n",
        "The code to build the graph is already present, you should save the connections as a list of lists with format `[[word1, word2, sim(word1, word2)][word1, word3, sim(word1, word3)]...]` in a variable called `edges`.\n",
        "\n",
        "You should obtain something like the following image:\n",
        "\n",
        "![covid_2-hop.png](data:image/png;base64,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)"
      ]
    },
    {
      "cell_type": "code",
      "execution_count": null,
      "id": "29JHcgUtXJ2T",
      "metadata": {
        "id": "29JHcgUtXJ2T"
      },
      "outputs": [],
      "source": [
        "#Ex.3\n",
        "seed = \"pandemic\"\n",
        "\n",
        "# determine edges for the graph\n",
        "\n",
        "\n",
        "print(\"----Exercise 3----\")\n",
        "# print(edges[0:10]) #uncomment this line before submitting to Moodle\n",
        "print(\"----End of Exercise 3----\")"
      ]
    },
    {
      "cell_type": "code",
      "execution_count": null,
      "id": "o9oKutGD7LbV",
      "metadata": {
        "id": "o9oKutGD7LbV"
      },
      "outputs": [],
      "source": [
        "#PLOT GRAPH\n",
        "# There is no need to add anything, but feel free to play around with it! (https://networkx.org/documentation/stable/tutorial.html)\n",
        "import matplotlib.pyplot as plt\n",
        "import networkx as nx\n",
        "\n",
        "G = nx.Graph()\n",
        "\n",
        "for edge in edges:\n",
        " G.add_edge(edge[0], edge[1], weight=edge[2])\n",
        "\n",
        "# we differentiate the edges between words with a very strong association (cosine similarity >= 0.8) from the rest\n",
        "elarge = [(u, v) for (u, v, d) in G.edges(data=True) if d[\"weight\"] >= 0.8]\n",
        "esmall = [(u, v) for (u, v, d) in G.edges(data=True) if d[\"weight\"] < 0.8]\n",
        "\n",
        "# positions for all nodes - seed for reproducibility\n",
        "pos = nx.spring_layout(G, seed=7)\n",
        "\n",
        "# nodes\n",
        "nx.draw_networkx_nodes(G, pos, node_size=300)\n",
        "\n",
        "# edges\n",
        "nx.draw_networkx_edges(G, pos, edgelist=elarge, width=3)\n",
        "nx.draw_networkx_edges(G, pos, edgelist=esmall, width=2, alpha=0.5, edge_color=\"b\", style=\"dashed\")\n",
        "\n",
        "# node labels\n",
        "nx.draw_networkx_labels(G, pos, font_size=10, font_family=\"sans-serif\")\n",
        "\n",
        "# plot\n",
        "ax = plt.gca()\n",
        "ax.margins(0.08)\n",
        "plt.axis(\"off\")\n",
        "plt.tight_layout()\n",
        "plt.show()"
      ]
    },
    {
      "cell_type": "markdown",
      "id": "eJaWyNIoXKe0",
      "metadata": {
        "id": "eJaWyNIoXKe0"
      },
      "source": [
        "Ex.4\n",
        "\n",
        "We will now split the dataset of covid posts and train two Word2Vec models:\n",
        "*   `model_first_months` on posts from the start of January to the end of June;\n",
        "*   `model_last_months` on posts from the start of July up until the end of December.\n",
        "\n",
        "You are also given a list of terms named `vocabs` = ['covid', 'coronavirus', 'covid19', 'corona', 'pandemic', 'epidemic', 'outbreak', 'lockdown', 'quarantine', 'mental', 'vaccine', 'vaccination', 'virus', 'sick',\n",
        " 'ill', 'illness' ,'testing', 'hospital', 'doctor', 'doctors', 'nurse', 'nurses', 'medic', 'medical', 'medicine', 'prevention', 'health', 'safe',\n",
        " 'care', 'worry', 'recession', 'job', 'life', 'live', 'school']\n",
        "\n",
        "\n",
        "The exercise consists in:\n",
        "1.   Instantiate and train the Word2Vec models\n",
        "2.   Take each term in vocabs and compare it in the following way:\n",
        "      * get the list of **50** most similar words from `model_first_months`\n",
        "      * get the list of **50** most similar words from `model_last_months`\n",
        "      * count the words in common between the two\n",
        "3.   Extract the 10 words that changed the most, the ones that have the lowest number of common words between the models\n",
        "4.   Save the 10 words as a list in a variable called `ten_most_changed`\n",
        "\n",
        "Remember that we previously saved the preprossed posts in the column 'preprocessed_posts'.\n",
        "\n",
        "\n",
        "Both Word2Vec models must have the following paramenters:\n",
        "* seed=0\n",
        "* window=5\n",
        "* min_count=5\n",
        "* max_final_vocab=50000\n",
        "* vector_size=300\n",
        "* workers=1\n",
        "\n",
        "**Before training the models, remember to set all seeds and `workers`=1 or you are going to obtain different results!!**"
      ]
    },
    {
      "cell_type": "code",
      "execution_count": null,
      "id": "me-tD-tSX6JD",
      "metadata": {
        "id": "me-tD-tSX6JD"
      },
      "outputs": [],
      "source": [
        "# we convert the Date column to type datetime. This allows us to use logical operators (<,>, ==,...) on dates correctly, otherwise they'll be interpreted as strings\n",
        "covid_df['Date'] = pd.to_datetime(covid_df['Date'], format='%m/%d/%Y')\n",
        "# cutoff for the two datasets\n",
        "middle = '2020-06-30'\n",
        "# extract first 6 months\n",
        "mask = (covid_df[\"Date\"] <= middle)\n",
        "covid_first_months = covid_df[mask]\n",
        "# extract last 6 months\n",
        "mask = (covid_df[\"Date\"] > middle)\n",
        "covid_last_months = covid_df[mask]"
      ]
    },
    {
      "cell_type": "code",
      "execution_count": null,
      "id": "adgUDDLKfLA4",
      "metadata": {
        "id": "adgUDDLKfLA4"
      },
      "outputs": [],
      "source": [
        "# list of terms that we are interested in\n",
        "vocabs = ['covid', 'coronavirus', 'covid19', 'corona', 'pandemic', 'epidemic', 'outbreak', 'lockdown', 'quarantine', 'mental', 'vaccine', 'vaccination', 'virus', 'sick',\n",
        " 'ill', 'illness' ,'testing', 'hospital', 'doctor', 'doctors', 'nurse', 'nurses', 'medic', 'medical', 'medicine', 'prevention', 'health', 'safe',\n",
        " 'care', 'worry', 'recession', 'job', 'life', 'live', 'school']"
      ]
    },
    {
      "cell_type": "code",
      "execution_count": null,
      "id": "dY91p3UEz4CI",
      "metadata": {
        "id": "dY91p3UEz4CI"
      },
      "outputs": [],
      "source": [
        "#Ex.4\n",
        "\n",
        "# train model on first months\n",
        "\n",
        "\n",
        "# train model on last months\n",
        "\n",
        "\n",
        "# compare terms and get the 10 most changed words\n",
        "\n",
        "\n",
        "print(\"----Exercise 4----\")\n",
        "print(ten_most_changed)"
      ]
    },
    {
      "cell_type": "markdown",
      "id": "oH8oIcZVFFDD",
      "metadata": {
        "id": "oH8oIcZVFFDD"
      },
      "source": [
        "### Moodle Submission\n",
        "Once you have done the exercises of the Notebook, save it as .py (File->Download->\"Download .py\") and upload it on Moodle. The latest instructions of the Ex.4 box need to be\n",
        "\n",
        "```\n",
        "print(\"----Exercise 4----\")\n",
        "print(ten_most_changed)\n",
        "```\n",
        "\n",
        "Copy the list of 10 words you get from Exercise 4 in the Comment box on Moodle."
      ]
    }
  ],
  "metadata": {
    "celltoolbar": "Slideshow",
    "colab": {
      "provenance": []
    },
    "kernelspec": {
      "display_name": "Python (myenv)",
      "language": "python",
      "name": "myenv"
    },
    "language_info": {
      "codemirror_mode": {
        "name": "ipython",
        "version": 3
      },
      "file_extension": ".py",
      "mimetype": "text/x-python",
      "name": "python",
      "nbconvert_exporter": "python",
      "pygments_lexer": "ipython3",
      "version": "3.11.5"
    }
  },
  "nbformat": 4,
  "nbformat_minor": 5
}
